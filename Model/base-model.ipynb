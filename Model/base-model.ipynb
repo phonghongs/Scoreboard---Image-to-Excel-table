{
 "cells": [
  {
   "cell_type": "code",
   "execution_count": 1,
   "metadata": {},
   "outputs": [
    {
     "name": "stderr",
     "output_type": "stream",
     "text": [
      "Using TensorFlow backend.\n"
     ]
    }
   ],
   "source": [
    "from __future__ import print_function \n",
    "from keras.datasets import mnist\n",
    "# 2. Load dữ liệu MNIST \n",
    "(X_train, y_train), (X_test, y_test) = mnist.load_data() \n",
    "# X_val, y_val = X_train[50000:60000,:], y_train[50000:60000] \n",
    "# X_train, y_train = X_train[:50000,:], y_train[:50000]"
   ]
  },
  {
   "cell_type": "code",
   "execution_count": 2,
   "metadata": {},
   "outputs": [],
   "source": [
    "import cv2\n",
    "for i in range (0,X_test.shape[0]):\n",
    "    img=X_test[i]\n",
    "    ret, img = cv2.threshold(img,0,255,cv2.THRESH_BINARY | cv2.THRESH_OTSU)\n",
    "    X_test[i]=img\n",
    "for i in range (0,X_train.shape[0]):\n",
    "    img=X_train[i]\n",
    "    ret, img = cv2.threshold(img,0,255,cv2.THRESH_BINARY | cv2.THRESH_OTSU)\n",
    "    X_train[i]=img\n",
    "X_val, y_val = X_train[50000:60000,:], y_train[50000:60000] \n",
    "X_train, y_train = X_train[:50000,:], y_train[:50000]"
   ]
  },
  {
   "cell_type": "code",
   "execution_count": 3,
   "metadata": {},
   "outputs": [
    {
     "data": {
      "text/plain": [
       "(10000, 28, 28)"
      ]
     },
     "execution_count": 3,
     "metadata": {},
     "output_type": "execute_result"
    }
   ],
   "source": [
    "X_test.shape"
   ]
  },
  {
   "cell_type": "code",
   "execution_count": 4,
   "metadata": {},
   "outputs": [],
   "source": [
    "X_train = X_train.reshape(X_train.shape[0], 28, 28, 1) \n",
    "X_val = X_val.reshape(X_val.shape[0], 28, 28, 1) \n",
    "X_test = X_test.reshape(X_test.shape[0], 28, 28, 1)\n"
   ]
  },
  {
   "cell_type": "code",
   "execution_count": 5,
   "metadata": {},
   "outputs": [
    {
     "name": "stdout",
     "output_type": "stream",
     "text": [
      "Dữ liệu y ban đầu  0\n",
      "Dữ liệu y sau one-hot encoding  [1. 0. 0. 0. 0. 0. 0. 0. 0. 0.]\n"
     ]
    }
   ],
   "source": [
    "from keras.utils import np_utils \n",
    "Y_train = np_utils.to_categorical(y_train, 10) \n",
    "Y_val = np_utils.to_categorical(y_val, 10) \n",
    "Y_test = np_utils.to_categorical(y_test, 10) \n",
    "print('Dữ liệu y ban đầu ', y_train[1]) \n",
    "print('Dữ liệu y sau one-hot encoding ',Y_train[1])\n"
   ]
  },
  {
   "cell_type": "code",
   "execution_count": 6,
   "metadata": {},
   "outputs": [
    {
     "name": "stdout",
     "output_type": "stream",
     "text": [
      "WARNING:tensorflow:From c:\\users\\quang\\anaconda3\\envs\\gputest\\lib\\site-packages\\tensorflow_core\\python\\ops\\resource_variable_ops.py:1630: calling BaseResourceVariable.__init__ (from tensorflow.python.ops.resource_variable_ops) with constraint is deprecated and will be removed in a future version.\n",
      "Instructions for updating:\n",
      "If using Keras pass *_constraint arguments to layers.\n",
      "WARNING:tensorflow:From c:\\users\\quang\\anaconda3\\envs\\gputest\\lib\\site-packages\\keras\\backend\\tensorflow_backend.py:4070: The name tf.nn.max_pool is deprecated. Please use tf.nn.max_pool2d instead.\n",
      "\n"
     ]
    }
   ],
   "source": [
    "from keras.models import Sequential \n",
    "from keras.layers import Dense, Dropout, Activation, Flatten \n",
    "from keras.layers import Conv2D, MaxPooling2D \n",
    "model = Sequential()\n",
    "model.add(Conv2D(32, (3, 3), activation='relu', input_shape=(28,28,1)))\n",
    "model.add(Conv2D(32, (3, 3), activation='relu'))\n",
    "model.add(MaxPooling2D(pool_size=(2,2)))\n",
    "model.add(Flatten())\n",
    "model.add(Dense(128, activation='sigmoid'))\n",
    "model.add(Dense(10, activation='softmax'))\n",
    "model.compile(loss='categorical_crossentropy', optimizer='adam', metrics=['accuracy'])\n"
   ]
  },
  {
   "cell_type": "code",
   "execution_count": 7,
   "metadata": {},
   "outputs": [
    {
     "name": "stdout",
     "output_type": "stream",
     "text": [
      "WARNING:tensorflow:From c:\\users\\quang\\anaconda3\\envs\\gputest\\lib\\site-packages\\keras\\backend\\tensorflow_backend.py:422: The name tf.global_variables is deprecated. Please use tf.compat.v1.global_variables instead.\n",
      "\n",
      "Train on 50000 samples, validate on 10000 samples\n",
      "Epoch 1/10\n",
      "50000/50000 [==============================] - 11s 219us/step - loss: 0.2714 - accuracy: 0.9373 - val_loss: 0.1009 - val_accuracy: 0.9722\n",
      "Epoch 2/10\n",
      "50000/50000 [==============================] - 9s 190us/step - loss: 0.0966 - accuracy: 0.9722 - val_loss: 0.0799 - val_accuracy: 0.9785\n",
      "Epoch 3/10\n",
      "50000/50000 [==============================] - 9s 189us/step - loss: 0.0845 - accuracy: 0.9748 - val_loss: 0.0734 - val_accuracy: 0.9792\n",
      "Epoch 4/10\n",
      "50000/50000 [==============================] - 11s 211us/step - loss: 0.0777 - accuracy: 0.9765 - val_loss: 0.0798 - val_accuracy: 0.9760\n",
      "Epoch 5/10\n",
      "50000/50000 [==============================] - 11s 213us/step - loss: 0.0807 - accuracy: 0.9749 - val_loss: 0.0728 - val_accuracy: 0.9780\n",
      "Epoch 6/10\n",
      "50000/50000 [==============================] - 10s 196us/step - loss: 0.0787 - accuracy: 0.9756 - val_loss: 0.0785 - val_accuracy: 0.9781\n",
      "Epoch 7/10\n",
      "50000/50000 [==============================] - 10s 192us/step - loss: 0.0759 - accuracy: 0.9760 - val_loss: 0.0814 - val_accuracy: 0.9767\n",
      "Epoch 8/10\n",
      "50000/50000 [==============================] - 10s 198us/step - loss: 0.0860 - accuracy: 0.9740 - val_loss: 0.0754 - val_accuracy: 0.9778\n",
      "Epoch 9/10\n",
      "50000/50000 [==============================] - 10s 202us/step - loss: 0.0834 - accuracy: 0.9743 - val_loss: 0.0956 - val_accuracy: 0.9717\n",
      "Epoch 10/10\n",
      "50000/50000 [==============================] - 10s 203us/step - loss: 0.0807 - accuracy: 0.9751 - val_loss: 0.0783 - val_accuracy: 0.9778\n"
     ]
    }
   ],
   "source": [
    "H = model.fit(X_train, Y_train, validation_data=(X_val, Y_val), batch_size=32, epochs=10, verbose=1)\n"
   ]
  },
  {
   "cell_type": "code",
   "execution_count": 8,
   "metadata": {},
   "outputs": [
    {
     "name": "stdout",
     "output_type": "stream",
     "text": [
      "Test loss: 0.0793\n",
      "Test accuracy 0.9759\n"
     ]
    }
   ],
   "source": [
    "\n",
    "score = model.evaluate(X_test, Y_test, verbose=0) \n",
    "print('Test loss: %.4f'% score[0])\n",
    "print('Test accuracy %.4f'% score[1])"
   ]
  },
  {
   "cell_type": "code",
   "execution_count": 9,
   "metadata": {},
   "outputs": [
    {
     "name": "stdout",
     "output_type": "stream",
     "text": [
      "Saved model to disk\n"
     ]
    }
   ],
   "source": [
    "model.save(\"base_model.h5\")\n",
    "print(\"Saved model to disk\")"
   ]
  },
  {
   "cell_type": "code",
   "execution_count": 8,
   "metadata": {},
   "outputs": [
    {
     "data": {
      "text/plain": [
       "<matplotlib.image.AxesImage at 0x2760b9cb108>"
      ]
     },
     "execution_count": 8,
     "metadata": {},
     "output_type": "execute_result"
    },
    {
     "data": {
      "image/png": "[encoded data removed]",
      "text/plain": [
       "<Figure size 432x288 with 1 Axes>"
      ]
     },
     "metadata": {
      "needs_background": "light"
     },
     "output_type": "display_data"
    }
   ],
   "source": [
    "import numpy as np \n",
    "import matplotlib.pyplot as plt \n",
    "plt.imshow(X_test[0].reshape(28,28))\n",
    "# y_predict = model.predict(X_test[0].reshape(1,28,28,1)) \n",
    "# print('Giá trị dự đoán: ', np.argmax(y_predict))\n"
   ]
  },
  {
   "cell_type": "code",
   "execution_count": 5,
   "metadata": {},
   "outputs": [
    {
     "data": {
      "text/plain": [
       "(28, 28)"
      ]
     },
     "execution_count": 5,
     "metadata": {},
     "output_type": "execute_result"
    }
   ],
   "source": [
    "X_test[0].shape"
   ]
  },
  {
   "cell_type": "code",
   "execution_count": 6,
   "metadata": {},
   "outputs": [],
   "source": [
    "image = np.asarray(X_test[0])\n",
    "ret, image = cv2.threshold(image,0,255,cv2.THRESH_BINARY_INV | cv2.THRESH_OTSU)"
   ]
  },
  {
   "cell_type": "code",
   "execution_count": 7,
   "metadata": {},
   "outputs": [
    {
     "data": {
      "text/plain": [
       "(28, 28)"
      ]
     },
     "execution_count": 7,
     "metadata": {},
     "output_type": "execute_result"
    }
   ],
   "source": [
    "image.shape"
   ]
  },
  {
   "cell_type": "code",
   "execution_count": 8,
   "metadata": {},
   "outputs": [],
   "source": [
    "ret, image = cv2.threshold(image,0,255,cv2.THRESH_BINARY_INV | cv2.THRESH_OTSU)"
   ]
  },
  {
   "cell_type": "code",
   "execution_count": 9,
   "metadata": {},
   "outputs": [
    {
     "data": {
      "text/plain": [
       "<matplotlib.image.AxesImage at 0x1ed218361c8>"
      ]
     },
     "execution_count": 9,
     "metadata": {},
     "output_type": "execute_result"
    },
    {
     "data": {
      "image/png": "[encoded data removed]",
      "text/plain": [
       "<Figure size 432x288 with 1 Axes>"
      ]
     },
     "metadata": {
      "needs_background": "light"
     },
     "output_type": "display_data"
    }
   ],
   "source": [
    "plt.imshow(image)"
   ]
  },
  {
   "cell_type": "code",
   "execution_count": 1,
   "metadata": {},
   "outputs": [
    {
     "name": "stdout",
     "output_type": "stream",
     "text": [
      "['0', '1', '2', '3', '4', '5', '6', '7', '8', '9']\n"
     ]
    }
   ],
   "source": [
    "import os\n",
    "filenames=os.listdir(os.getcwd()+\"\\\\data-digit\")\n",
    "print(filenames)"
   ]
  },
  {
   "cell_type": "code",
   "execution_count": 2,
   "metadata": {},
   "outputs": [],
   "source": [
    "labels=[]\n",
    "paths=[]\n",
    "images=[]\n",
    "for i in filenames:\n",
    "    path=os.path.join(os.getcwd()+\"\\\\data-digit\",i)\n",
    "    file_images=os.listdir(path)\n",
    "    for j in file_images:\n",
    "        image=os.path.join(path,j)\n",
    "        images.append(image)\n",
    "        labels.append(i)\n",
    "    "
   ]
  },
  {
   "cell_type": "code",
   "execution_count": 3,
   "metadata": {},
   "outputs": [
    {
     "data": {
      "text/plain": [
       "['C:\\\\Users\\\\quang\\\\Anaconda3\\\\envs\\\\gputest\\\\code\\\\IPS\\\\data-digit\\\\0\\\\2020-03-08 11_13_06-test_1.jpg \\u200e- Photos.png',\n",
       " 'C:\\\\Users\\\\quang\\\\Anaconda3\\\\envs\\\\gputest\\\\code\\\\IPS\\\\data-digit\\\\0\\\\2020-03-08 11_14_39-test_1.jpg \\u200e- Photos.png',\n",
       " 'C:\\\\Users\\\\quang\\\\Anaconda3\\\\envs\\\\gputest\\\\code\\\\IPS\\\\data-digit\\\\0\\\\2020-03-08 11_15_05-test_1.jpg \\u200e- Photos.png',\n",
       " 'C:\\\\Users\\\\quang\\\\Anaconda3\\\\envs\\\\gputest\\\\code\\\\IPS\\\\data-digit\\\\0\\\\2020-03-08 11_15_25-test_1.jpg \\u200e- Photos.png',\n",
       " 'C:\\\\Users\\\\quang\\\\Anaconda3\\\\envs\\\\gputest\\\\code\\\\IPS\\\\data-digit\\\\0\\\\2020-03-08 11_15_33-test_1.jpg \\u200e- Photos.png',\n",
       " 'C:\\\\Users\\\\quang\\\\Anaconda3\\\\envs\\\\gputest\\\\code\\\\IPS\\\\data-digit\\\\0\\\\2020-03-08 11_15_48-test_1.jpg \\u200e- Photos.png',\n",
       " 'C:\\\\Users\\\\quang\\\\Anaconda3\\\\envs\\\\gputest\\\\code\\\\IPS\\\\data-digit\\\\0\\\\2020-03-08 11_15_53-test_1.jpg \\u200e- Photos.png',\n",
       " 'C:\\\\Users\\\\quang\\\\Anaconda3\\\\envs\\\\gputest\\\\code\\\\IPS\\\\data-digit\\\\0\\\\2020-03-08 11_51_47-test_2.jpg \\u200e- Photos.png',\n",
       " 'C:\\\\Users\\\\quang\\\\Anaconda3\\\\envs\\\\gputest\\\\code\\\\IPS\\\\data-digit\\\\0\\\\2020-03-08 11_51_57-test_2.jpg \\u200e- Photos.png',\n",
       " 'C:\\\\Users\\\\quang\\\\Anaconda3\\\\envs\\\\gputest\\\\code\\\\IPS\\\\data-digit\\\\0\\\\2020-03-08 11_52_24-test_2.jpg \\u200e- Photos.png',\n",
       " 'C:\\\\Users\\\\quang\\\\Anaconda3\\\\envs\\\\gputest\\\\code\\\\IPS\\\\data-digit\\\\0\\\\2020-03-08 11_53_33-test_2.jpg \\u200e- Photos.png',\n",
       " 'C:\\\\Users\\\\quang\\\\Anaconda3\\\\envs\\\\gputest\\\\code\\\\IPS\\\\data-digit\\\\0\\\\2020-03-08 11_53_49-test_2.jpg \\u200e- Photos.png',\n",
       " 'C:\\\\Users\\\\quang\\\\Anaconda3\\\\envs\\\\gputest\\\\code\\\\IPS\\\\data-digit\\\\0\\\\2020-03-08 11_54_00-test_2.jpg \\u200e- Photos.png',\n",
       " 'C:\\\\Users\\\\quang\\\\Anaconda3\\\\envs\\\\gputest\\\\code\\\\IPS\\\\data-digit\\\\0\\\\2020-03-08 11_55_10-test_2.jpg \\u200e- Photos.png',\n",
       " 'C:\\\\Users\\\\quang\\\\Anaconda3\\\\envs\\\\gputest\\\\code\\\\IPS\\\\data-digit\\\\0\\\\2020-03-08 11_56_22-test_2.jpg \\u200e- Photos.png',\n",
       " 'C:\\\\Users\\\\quang\\\\Anaconda3\\\\envs\\\\gputest\\\\code\\\\IPS\\\\data-digit\\\\0\\\\2020-03-08 12_05_30-Photos.png',\n",
       " 'C:\\\\Users\\\\quang\\\\Anaconda3\\\\envs\\\\gputest\\\\code\\\\IPS\\\\data-digit\\\\0\\\\2020-03-08 12_07_24-Photos.png',\n",
       " 'C:\\\\Users\\\\quang\\\\Anaconda3\\\\envs\\\\gputest\\\\code\\\\IPS\\\\data-digit\\\\0\\\\2020-03-08 12_07_51-Photos.png',\n",
       " 'C:\\\\Users\\\\quang\\\\Anaconda3\\\\envs\\\\gputest\\\\code\\\\IPS\\\\data-digit\\\\0\\\\2020-03-08 12_09_37-Photos.png',\n",
       " 'C:\\\\Users\\\\quang\\\\Anaconda3\\\\envs\\\\gputest\\\\code\\\\IPS\\\\data-digit\\\\0\\\\2020-03-08 12_11_56-Photos.png',\n",
       " 'C:\\\\Users\\\\quang\\\\Anaconda3\\\\envs\\\\gputest\\\\code\\\\IPS\\\\data-digit\\\\0\\\\2020-03-08 12_12_56-Photos.png',\n",
       " 'C:\\\\Users\\\\quang\\\\Anaconda3\\\\envs\\\\gputest\\\\code\\\\IPS\\\\data-digit\\\\0\\\\2020-03-08 12_13_46-Photos.png',\n",
       " 'C:\\\\Users\\\\quang\\\\Anaconda3\\\\envs\\\\gputest\\\\code\\\\IPS\\\\data-digit\\\\0\\\\2020-03-08 12_14_13-Photos.png',\n",
       " 'C:\\\\Users\\\\quang\\\\Anaconda3\\\\envs\\\\gputest\\\\code\\\\IPS\\\\data-digit\\\\0\\\\2020-03-08 12_15_12-Photos.png',\n",
       " 'C:\\\\Users\\\\quang\\\\Anaconda3\\\\envs\\\\gputest\\\\code\\\\IPS\\\\data-digit\\\\0\\\\2020-03-08 12_15_47-Photos.png',\n",
       " 'C:\\\\Users\\\\quang\\\\Anaconda3\\\\envs\\\\gputest\\\\code\\\\IPS\\\\data-digit\\\\0\\\\2020-03-08 12_15_58-Photos.png',\n",
       " 'C:\\\\Users\\\\quang\\\\Anaconda3\\\\envs\\\\gputest\\\\code\\\\IPS\\\\data-digit\\\\0\\\\2020-03-08 12_16_15-Photos.png',\n",
       " 'C:\\\\Users\\\\quang\\\\Anaconda3\\\\envs\\\\gputest\\\\code\\\\IPS\\\\data-digit\\\\0\\\\2020-03-08 12_16_59-Photos.png',\n",
       " 'C:\\\\Users\\\\quang\\\\Anaconda3\\\\envs\\\\gputest\\\\code\\\\IPS\\\\data-digit\\\\0\\\\2020-03-08 12_18_16-Photos.png',\n",
       " 'C:\\\\Users\\\\quang\\\\Anaconda3\\\\envs\\\\gputest\\\\code\\\\IPS\\\\data-digit\\\\0\\\\2020-03-08 12_18_30-Photos.png',\n",
       " 'C:\\\\Users\\\\quang\\\\Anaconda3\\\\envs\\\\gputest\\\\code\\\\IPS\\\\data-digit\\\\0\\\\2020-03-08 12_18_49-Photos.png',\n",
       " 'C:\\\\Users\\\\quang\\\\Anaconda3\\\\envs\\\\gputest\\\\code\\\\IPS\\\\data-digit\\\\0\\\\2020-03-08 12_19_12-Photos.png',\n",
       " 'C:\\\\Users\\\\quang\\\\Anaconda3\\\\envs\\\\gputest\\\\code\\\\IPS\\\\data-digit\\\\0\\\\2020-03-08 12_19_21-Photos.png',\n",
       " 'C:\\\\Users\\\\quang\\\\Anaconda3\\\\envs\\\\gputest\\\\code\\\\IPS\\\\data-digit\\\\0\\\\2020-03-08 12_19_28-Photos.png',\n",
       " 'C:\\\\Users\\\\quang\\\\Anaconda3\\\\envs\\\\gputest\\\\code\\\\IPS\\\\data-digit\\\\0\\\\2020-03-08 12_19_42-Photos.png',\n",
       " 'C:\\\\Users\\\\quang\\\\Anaconda3\\\\envs\\\\gputest\\\\code\\\\IPS\\\\data-digit\\\\0\\\\2020-03-08 12_19_53-Photos.png',\n",
       " 'C:\\\\Users\\\\quang\\\\Anaconda3\\\\envs\\\\gputest\\\\code\\\\IPS\\\\data-digit\\\\0\\\\2020-03-08 12_20_44-test_5.jpg \\u200e- Photos.png',\n",
       " 'C:\\\\Users\\\\quang\\\\Anaconda3\\\\envs\\\\gputest\\\\code\\\\IPS\\\\data-digit\\\\0\\\\2020-03-08 12_21_02-test_5.jpg \\u200e- Photos.png',\n",
       " 'C:\\\\Users\\\\quang\\\\Anaconda3\\\\envs\\\\gputest\\\\code\\\\IPS\\\\data-digit\\\\0\\\\2020-03-08 12_21_08-test_5.jpg \\u200e- Photos.png',\n",
       " 'C:\\\\Users\\\\quang\\\\Anaconda3\\\\envs\\\\gputest\\\\code\\\\IPS\\\\data-digit\\\\0\\\\2020-03-08 12_21_14-test_5.jpg \\u200e- Photos.png',\n",
       " 'C:\\\\Users\\\\quang\\\\Anaconda3\\\\envs\\\\gputest\\\\code\\\\IPS\\\\data-digit\\\\0\\\\2020-03-08 12_21_24-test_5.jpg \\u200e- Photos.png',\n",
       " 'C:\\\\Users\\\\quang\\\\Anaconda3\\\\envs\\\\gputest\\\\code\\\\IPS\\\\data-digit\\\\0\\\\2020-03-08 12_21_35-test_5.jpg \\u200e- Photos.png',\n",
       " 'C:\\\\Users\\\\quang\\\\Anaconda3\\\\envs\\\\gputest\\\\code\\\\IPS\\\\data-digit\\\\0\\\\2020-03-08 12_21_49-test_5.jpg \\u200e- Photos.png',\n",
       " 'C:\\\\Users\\\\quang\\\\Anaconda3\\\\envs\\\\gputest\\\\code\\\\IPS\\\\data-digit\\\\0\\\\2020-03-08 12_21_58-test_5.jpg \\u200e- Photos.png',\n",
       " 'C:\\\\Users\\\\quang\\\\Anaconda3\\\\envs\\\\gputest\\\\code\\\\IPS\\\\data-digit\\\\0\\\\2020-03-08 12_22_13-test_5.jpg \\u200e- Photos.png',\n",
       " 'C:\\\\Users\\\\quang\\\\Anaconda3\\\\envs\\\\gputest\\\\code\\\\IPS\\\\data-digit\\\\1\\\\2020-03-08 11_18_19-test_1.jpg \\u200e- Photos.png',\n",
       " 'C:\\\\Users\\\\quang\\\\Anaconda3\\\\envs\\\\gputest\\\\code\\\\IPS\\\\data-digit\\\\1\\\\2020-03-08 11_18_27-test_1.jpg \\u200e- Photos.png',\n",
       " 'C:\\\\Users\\\\quang\\\\Anaconda3\\\\envs\\\\gputest\\\\code\\\\IPS\\\\data-digit\\\\1\\\\2020-03-08 11_18_34-test_1.jpg \\u200e- Photos.png',\n",
       " 'C:\\\\Users\\\\quang\\\\Anaconda3\\\\envs\\\\gputest\\\\code\\\\IPS\\\\data-digit\\\\1\\\\2020-03-08 11_18_49-test_1.jpg \\u200e- Photos.png',\n",
       " 'C:\\\\Users\\\\quang\\\\Anaconda3\\\\envs\\\\gputest\\\\code\\\\IPS\\\\data-digit\\\\1\\\\2020-03-08 11_25_47-test_1.jpg \\u200e- Photos.png',\n",
       " 'C:\\\\Users\\\\quang\\\\Anaconda3\\\\envs\\\\gputest\\\\code\\\\IPS\\\\data-digit\\\\1\\\\2020-03-08 11_25_57-test_1.jpg \\u200e- Photos.png',\n",
       " 'C:\\\\Users\\\\quang\\\\Anaconda3\\\\envs\\\\gputest\\\\code\\\\IPS\\\\data-digit\\\\1\\\\2020-03-08 11_51_51-test_2.jpg \\u200e- Photos.png',\n",
       " 'C:\\\\Users\\\\quang\\\\Anaconda3\\\\envs\\\\gputest\\\\code\\\\IPS\\\\data-digit\\\\1\\\\2020-03-08 11_52_28-test_2.jpg \\u200e- Photos.png',\n",
       " 'C:\\\\Users\\\\quang\\\\Anaconda3\\\\envs\\\\gputest\\\\code\\\\IPS\\\\data-digit\\\\1\\\\2020-03-08 11_53_52-test_2.jpg \\u200e- Photos.png',\n",
       " 'C:\\\\Users\\\\quang\\\\Anaconda3\\\\envs\\\\gputest\\\\code\\\\IPS\\\\data-digit\\\\1\\\\2020-03-08 11_54_03-test_2.jpg \\u200e- Photos.png',\n",
       " 'C:\\\\Users\\\\quang\\\\Anaconda3\\\\envs\\\\gputest\\\\code\\\\IPS\\\\data-digit\\\\1\\\\2020-03-08 11_55_13-test_2.jpg \\u200e- Photos.png',\n",
       " 'C:\\\\Users\\\\quang\\\\Anaconda3\\\\envs\\\\gputest\\\\code\\\\IPS\\\\data-digit\\\\1\\\\2020-03-08 11_56_27-test_2.jpg \\u200e- Photos.png',\n",
       " 'C:\\\\Users\\\\quang\\\\Anaconda3\\\\envs\\\\gputest\\\\code\\\\IPS\\\\data-digit\\\\1\\\\2020-03-08 12_05_33-Photos.png',\n",
       " 'C:\\\\Users\\\\quang\\\\Anaconda3\\\\envs\\\\gputest\\\\code\\\\IPS\\\\data-digit\\\\1\\\\2020-03-08 12_07_28-Photos.png',\n",
       " 'C:\\\\Users\\\\quang\\\\Anaconda3\\\\envs\\\\gputest\\\\code\\\\IPS\\\\data-digit\\\\1\\\\2020-03-08 12_07_55-Photos.png',\n",
       " 'C:\\\\Users\\\\quang\\\\Anaconda3\\\\envs\\\\gputest\\\\code\\\\IPS\\\\data-digit\\\\1\\\\2020-03-08 12_09_40-Photos.png',\n",
       " 'C:\\\\Users\\\\quang\\\\Anaconda3\\\\envs\\\\gputest\\\\code\\\\IPS\\\\data-digit\\\\1\\\\2020-03-08 12_12_04-Photos.png',\n",
       " 'C:\\\\Users\\\\quang\\\\Anaconda3\\\\envs\\\\gputest\\\\code\\\\IPS\\\\data-digit\\\\1\\\\2020-03-08 12_12_59-Photos.png',\n",
       " 'C:\\\\Users\\\\quang\\\\Anaconda3\\\\envs\\\\gputest\\\\code\\\\IPS\\\\data-digit\\\\1\\\\2020-03-08 12_13_49-Photos.png',\n",
       " 'C:\\\\Users\\\\quang\\\\Anaconda3\\\\envs\\\\gputest\\\\code\\\\IPS\\\\data-digit\\\\1\\\\2020-03-08 12_14_20-Photos.png',\n",
       " 'C:\\\\Users\\\\quang\\\\Anaconda3\\\\envs\\\\gputest\\\\code\\\\IPS\\\\data-digit\\\\1\\\\2020-03-08 12_15_16-Photos.png',\n",
       " 'C:\\\\Users\\\\quang\\\\Anaconda3\\\\envs\\\\gputest\\\\code\\\\IPS\\\\data-digit\\\\1\\\\2020-03-08 12_15_50-Photos.png',\n",
       " 'C:\\\\Users\\\\quang\\\\Anaconda3\\\\envs\\\\gputest\\\\code\\\\IPS\\\\data-digit\\\\1\\\\2020-03-08 12_16_01-Photos.png',\n",
       " 'C:\\\\Users\\\\quang\\\\Anaconda3\\\\envs\\\\gputest\\\\code\\\\IPS\\\\data-digit\\\\1\\\\2020-03-08 12_16_18-Photos.png',\n",
       " 'C:\\\\Users\\\\quang\\\\Anaconda3\\\\envs\\\\gputest\\\\code\\\\IPS\\\\data-digit\\\\1\\\\2020-03-08 12_17_01-Photos.png',\n",
       " 'C:\\\\Users\\\\quang\\\\Anaconda3\\\\envs\\\\gputest\\\\code\\\\IPS\\\\data-digit\\\\1\\\\2020-03-08 12_18_21-Photos.png',\n",
       " 'C:\\\\Users\\\\quang\\\\Anaconda3\\\\envs\\\\gputest\\\\code\\\\IPS\\\\data-digit\\\\1\\\\2020-03-08 12_18_34-Photos.png',\n",
       " 'C:\\\\Users\\\\quang\\\\Anaconda3\\\\envs\\\\gputest\\\\code\\\\IPS\\\\data-digit\\\\1\\\\2020-03-08 12_18_52-Photos.png',\n",
       " 'C:\\\\Users\\\\quang\\\\Anaconda3\\\\envs\\\\gputest\\\\code\\\\IPS\\\\data-digit\\\\1\\\\2020-03-08 12_19_15-Photos.png',\n",
       " 'C:\\\\Users\\\\quang\\\\Anaconda3\\\\envs\\\\gputest\\\\code\\\\IPS\\\\data-digit\\\\1\\\\2020-03-08 12_19_24-Photos.png',\n",
       " 'C:\\\\Users\\\\quang\\\\Anaconda3\\\\envs\\\\gputest\\\\code\\\\IPS\\\\data-digit\\\\1\\\\2020-03-08 12_19_32-Photos.png',\n",
       " 'C:\\\\Users\\\\quang\\\\Anaconda3\\\\envs\\\\gputest\\\\code\\\\IPS\\\\data-digit\\\\1\\\\2020-03-08 12_19_45-Photos.png',\n",
       " 'C:\\\\Users\\\\quang\\\\Anaconda3\\\\envs\\\\gputest\\\\code\\\\IPS\\\\data-digit\\\\1\\\\2020-03-08 12_21_05-test_5.jpg \\u200e- Photos.png',\n",
       " 'C:\\\\Users\\\\quang\\\\Anaconda3\\\\envs\\\\gputest\\\\code\\\\IPS\\\\data-digit\\\\1\\\\2020-03-08 12_21_11-test_5.jpg \\u200e- Photos.png',\n",
       " 'C:\\\\Users\\\\quang\\\\Anaconda3\\\\envs\\\\gputest\\\\code\\\\IPS\\\\data-digit\\\\1\\\\2020-03-08 12_21_18-test_5.jpg \\u200e- Photos.png',\n",
       " 'C:\\\\Users\\\\quang\\\\Anaconda3\\\\envs\\\\gputest\\\\code\\\\IPS\\\\data-digit\\\\1\\\\2020-03-08 12_21_27-test_5.jpg \\u200e- Photos.png',\n",
       " 'C:\\\\Users\\\\quang\\\\Anaconda3\\\\envs\\\\gputest\\\\code\\\\IPS\\\\data-digit\\\\1\\\\2020-03-08 12_21_39-test_5.jpg \\u200e- Photos.png',\n",
       " 'C:\\\\Users\\\\quang\\\\Anaconda3\\\\envs\\\\gputest\\\\code\\\\IPS\\\\data-digit\\\\1\\\\2020-03-08 12_21_52-test_5.jpg \\u200e- Photos.png',\n",
       " 'C:\\\\Users\\\\quang\\\\Anaconda3\\\\envs\\\\gputest\\\\code\\\\IPS\\\\data-digit\\\\1\\\\2020-03-08 12_22_02-test_5.jpg \\u200e- Photos.png',\n",
       " 'C:\\\\Users\\\\quang\\\\Anaconda3\\\\envs\\\\gputest\\\\code\\\\IPS\\\\data-digit\\\\1\\\\2020-03-08 12_22_16-test_5.jpg \\u200e- Photos.png',\n",
       " 'C:\\\\Users\\\\quang\\\\Anaconda3\\\\envs\\\\gputest\\\\code\\\\IPS\\\\data-digit\\\\2\\\\2020-03-08 11_35_43-test_1.jpg \\u200e- Photos.png',\n",
       " 'C:\\\\Users\\\\quang\\\\Anaconda3\\\\envs\\\\gputest\\\\code\\\\IPS\\\\data-digit\\\\2\\\\2020-03-08 11_54_13-test_2.jpg \\u200e- Photos.png',\n",
       " 'C:\\\\Users\\\\quang\\\\Anaconda3\\\\envs\\\\gputest\\\\code\\\\IPS\\\\data-digit\\\\3\\\\2020-03-08 12_09_35-Photos.png',\n",
       " 'C:\\\\Users\\\\quang\\\\Anaconda3\\\\envs\\\\gputest\\\\code\\\\IPS\\\\data-digit\\\\3\\\\2020-03-08 12_10_29-Photos.png',\n",
       " 'C:\\\\Users\\\\quang\\\\Anaconda3\\\\envs\\\\gputest\\\\code\\\\IPS\\\\data-digit\\\\4\\\\2020-03-08 12_06_36-Photos.png',\n",
       " 'C:\\\\Users\\\\quang\\\\Anaconda3\\\\envs\\\\gputest\\\\code\\\\IPS\\\\data-digit\\\\4\\\\2020-03-08 12_07_14-Photos.png',\n",
       " 'C:\\\\Users\\\\quang\\\\Anaconda3\\\\envs\\\\gputest\\\\code\\\\IPS\\\\data-digit\\\\4\\\\2020-03-08 12_08_23-Photos.png',\n",
       " 'C:\\\\Users\\\\quang\\\\Anaconda3\\\\envs\\\\gputest\\\\code\\\\IPS\\\\data-digit\\\\4\\\\2020-03-08 12_09_23-Photos.png',\n",
       " 'C:\\\\Users\\\\quang\\\\Anaconda3\\\\envs\\\\gputest\\\\code\\\\IPS\\\\data-digit\\\\4\\\\2020-03-08 12_09_31-Photos.png',\n",
       " 'C:\\\\Users\\\\quang\\\\Anaconda3\\\\envs\\\\gputest\\\\code\\\\IPS\\\\data-digit\\\\4\\\\2020-03-08 12_11_14-Photos.png',\n",
       " 'C:\\\\Users\\\\quang\\\\Anaconda3\\\\envs\\\\gputest\\\\code\\\\IPS\\\\data-digit\\\\5\\\\2020-03-08 11_36_25-test_1.jpg \\u200e- Photos.png',\n",
       " 'C:\\\\Users\\\\quang\\\\Anaconda3\\\\envs\\\\gputest\\\\code\\\\IPS\\\\data-digit\\\\5\\\\2020-03-08 11_36_34-test_1.jpg \\u200e- Photos.png',\n",
       " 'C:\\\\Users\\\\quang\\\\Anaconda3\\\\envs\\\\gputest\\\\code\\\\IPS\\\\data-digit\\\\5\\\\2020-03-08 11_37_15-test_1.jpg \\u200e- Photos.png',\n",
       " 'C:\\\\Users\\\\quang\\\\Anaconda3\\\\envs\\\\gputest\\\\code\\\\IPS\\\\data-digit\\\\5\\\\2020-03-08 11_37_24-test_1.jpg \\u200e- Photos.png',\n",
       " 'C:\\\\Users\\\\quang\\\\Anaconda3\\\\envs\\\\gputest\\\\code\\\\IPS\\\\data-digit\\\\5\\\\2020-03-08 11_37_31-test_1.jpg \\u200e- Photos.png',\n",
       " 'C:\\\\Users\\\\quang\\\\Anaconda3\\\\envs\\\\gputest\\\\code\\\\IPS\\\\data-digit\\\\5\\\\2020-03-08 11_37_36-test_1.jpg \\u200e- Photos.png',\n",
       " 'C:\\\\Users\\\\quang\\\\Anaconda3\\\\envs\\\\gputest\\\\code\\\\IPS\\\\data-digit\\\\5\\\\2020-03-08 11_37_41-test_1.jpg \\u200e- Photos.png',\n",
       " 'C:\\\\Users\\\\quang\\\\Anaconda3\\\\envs\\\\gputest\\\\code\\\\IPS\\\\data-digit\\\\5\\\\2020-03-08 11_37_48-test_1.jpg \\u200e- Photos.png',\n",
       " 'C:\\\\Users\\\\quang\\\\Anaconda3\\\\envs\\\\gputest\\\\code\\\\IPS\\\\data-digit\\\\5\\\\2020-03-08 11_37_55-test_1.jpg \\u200e- Photos.png',\n",
       " 'C:\\\\Users\\\\quang\\\\Anaconda3\\\\envs\\\\gputest\\\\code\\\\IPS\\\\data-digit\\\\5\\\\2020-03-08 11_51_17-test_2.jpg \\u200e- Photos.png',\n",
       " 'C:\\\\Users\\\\quang\\\\Anaconda3\\\\envs\\\\gputest\\\\code\\\\IPS\\\\data-digit\\\\5\\\\2020-03-08 11_52_51-test_2.jpg \\u200e- Photos.png',\n",
       " 'C:\\\\Users\\\\quang\\\\Anaconda3\\\\envs\\\\gputest\\\\code\\\\IPS\\\\data-digit\\\\5\\\\2020-03-08 11_54_57-test_2.jpg \\u200e- Photos.png',\n",
       " 'C:\\\\Users\\\\quang\\\\Anaconda3\\\\envs\\\\gputest\\\\code\\\\IPS\\\\data-digit\\\\5\\\\2020-03-08 11_55_23-test_2.jpg \\u200e- Photos.png',\n",
       " 'C:\\\\Users\\\\quang\\\\Anaconda3\\\\envs\\\\gputest\\\\code\\\\IPS\\\\data-digit\\\\5\\\\2020-03-08 12_04_06-Photos.png',\n",
       " 'C:\\\\Users\\\\quang\\\\Anaconda3\\\\envs\\\\gputest\\\\code\\\\IPS\\\\data-digit\\\\5\\\\2020-03-08 12_04_16-Photos.png',\n",
       " 'C:\\\\Users\\\\quang\\\\Anaconda3\\\\envs\\\\gputest\\\\code\\\\IPS\\\\data-digit\\\\5\\\\2020-03-08 12_04_37-Photos.png',\n",
       " 'C:\\\\Users\\\\quang\\\\Anaconda3\\\\envs\\\\gputest\\\\code\\\\IPS\\\\data-digit\\\\5\\\\2020-03-08 12_04_56-Photos.png',\n",
       " 'C:\\\\Users\\\\quang\\\\Anaconda3\\\\envs\\\\gputest\\\\code\\\\IPS\\\\data-digit\\\\5\\\\2020-03-08 12_05_16-Photos.png',\n",
       " 'C:\\\\Users\\\\quang\\\\Anaconda3\\\\envs\\\\gputest\\\\code\\\\IPS\\\\data-digit\\\\5\\\\2020-03-08 12_05_27-Photos.png',\n",
       " 'C:\\\\Users\\\\quang\\\\Anaconda3\\\\envs\\\\gputest\\\\code\\\\IPS\\\\data-digit\\\\5\\\\2020-03-08 12_05_44-Photos.png',\n",
       " 'C:\\\\Users\\\\quang\\\\Anaconda3\\\\envs\\\\gputest\\\\code\\\\IPS\\\\data-digit\\\\5\\\\2020-03-08 12_05_47-Photos.png',\n",
       " 'C:\\\\Users\\\\quang\\\\Anaconda3\\\\envs\\\\gputest\\\\code\\\\IPS\\\\data-digit\\\\5\\\\2020-03-08 12_06_02-Photos.png',\n",
       " 'C:\\\\Users\\\\quang\\\\Anaconda3\\\\envs\\\\gputest\\\\code\\\\IPS\\\\data-digit\\\\5\\\\2020-03-08 12_06_12-Photos.png',\n",
       " 'C:\\\\Users\\\\quang\\\\Anaconda3\\\\envs\\\\gputest\\\\code\\\\IPS\\\\data-digit\\\\5\\\\2020-03-08 12_06_18-Photos.png',\n",
       " 'C:\\\\Users\\\\quang\\\\Anaconda3\\\\envs\\\\gputest\\\\code\\\\IPS\\\\data-digit\\\\5\\\\2020-03-08 12_06_25-Photos.png',\n",
       " 'C:\\\\Users\\\\quang\\\\Anaconda3\\\\envs\\\\gputest\\\\code\\\\IPS\\\\data-digit\\\\5\\\\2020-03-08 12_06_28-Photos.png',\n",
       " 'C:\\\\Users\\\\quang\\\\Anaconda3\\\\envs\\\\gputest\\\\code\\\\IPS\\\\data-digit\\\\5\\\\2020-03-08 12_07_35-Photos.png',\n",
       " 'C:\\\\Users\\\\quang\\\\Anaconda3\\\\envs\\\\gputest\\\\code\\\\IPS\\\\data-digit\\\\5\\\\2020-03-08 12_07_39-Photos.png',\n",
       " 'C:\\\\Users\\\\quang\\\\Anaconda3\\\\envs\\\\gputest\\\\code\\\\IPS\\\\data-digit\\\\5\\\\2020-03-08 12_07_58-Photos.png',\n",
       " 'C:\\\\Users\\\\quang\\\\Anaconda3\\\\envs\\\\gputest\\\\code\\\\IPS\\\\data-digit\\\\5\\\\2020-03-08 12_08_11-Photos.png',\n",
       " 'C:\\\\Users\\\\quang\\\\Anaconda3\\\\envs\\\\gputest\\\\code\\\\IPS\\\\data-digit\\\\5\\\\2020-03-08 12_08_19-Photos.png',\n",
       " 'C:\\\\Users\\\\quang\\\\Anaconda3\\\\envs\\\\gputest\\\\code\\\\IPS\\\\data-digit\\\\5\\\\2020-03-08 12_08_31-Photos.png',\n",
       " 'C:\\\\Users\\\\quang\\\\Anaconda3\\\\envs\\\\gputest\\\\code\\\\IPS\\\\data-digit\\\\5\\\\2020-03-08 12_08_42-Photos.png',\n",
       " 'C:\\\\Users\\\\quang\\\\Anaconda3\\\\envs\\\\gputest\\\\code\\\\IPS\\\\data-digit\\\\5\\\\2020-03-08 12_08_47-Photos.png',\n",
       " 'C:\\\\Users\\\\quang\\\\Anaconda3\\\\envs\\\\gputest\\\\code\\\\IPS\\\\data-digit\\\\5\\\\2020-03-08 12_09_00-Photos.png',\n",
       " 'C:\\\\Users\\\\quang\\\\Anaconda3\\\\envs\\\\gputest\\\\code\\\\IPS\\\\data-digit\\\\5\\\\2020-03-08 12_09_03-Photos.png',\n",
       " 'C:\\\\Users\\\\quang\\\\Anaconda3\\\\envs\\\\gputest\\\\code\\\\IPS\\\\data-digit\\\\5\\\\2020-03-08 12_09_10-Photos.png',\n",
       " 'C:\\\\Users\\\\quang\\\\Anaconda3\\\\envs\\\\gputest\\\\code\\\\IPS\\\\data-digit\\\\5\\\\2020-03-08 12_09_13-Photos.png',\n",
       " 'C:\\\\Users\\\\quang\\\\Anaconda3\\\\envs\\\\gputest\\\\code\\\\IPS\\\\data-digit\\\\5\\\\2020-03-08 12_09_16-Photos.png',\n",
       " 'C:\\\\Users\\\\quang\\\\Anaconda3\\\\envs\\\\gputest\\\\code\\\\IPS\\\\data-digit\\\\5\\\\2020-03-08 12_09_19-Photos.png',\n",
       " 'C:\\\\Users\\\\quang\\\\Anaconda3\\\\envs\\\\gputest\\\\code\\\\IPS\\\\data-digit\\\\5\\\\2020-03-08 12_09_47-Photos.png',\n",
       " 'C:\\\\Users\\\\quang\\\\Anaconda3\\\\envs\\\\gputest\\\\code\\\\IPS\\\\data-digit\\\\5\\\\2020-03-08 12_09_57-Photos.png',\n",
       " 'C:\\\\Users\\\\quang\\\\Anaconda3\\\\envs\\\\gputest\\\\code\\\\IPS\\\\data-digit\\\\5\\\\2020-03-08 12_10_15-Photos.png',\n",
       " 'C:\\\\Users\\\\quang\\\\Anaconda3\\\\envs\\\\gputest\\\\code\\\\IPS\\\\data-digit\\\\5\\\\2020-03-08 12_10_53-Photos.png',\n",
       " 'C:\\\\Users\\\\quang\\\\Anaconda3\\\\envs\\\\gputest\\\\code\\\\IPS\\\\data-digit\\\\5\\\\2020-03-08 12_11_01-Photos.png',\n",
       " 'C:\\\\Users\\\\quang\\\\Anaconda3\\\\envs\\\\gputest\\\\code\\\\IPS\\\\data-digit\\\\5\\\\2020-03-08 12_11_19-Photos.png',\n",
       " 'C:\\\\Users\\\\quang\\\\Anaconda3\\\\envs\\\\gputest\\\\code\\\\IPS\\\\data-digit\\\\5\\\\2020-03-08 12_11_28-Photos.png',\n",
       " 'C:\\\\Users\\\\quang\\\\Anaconda3\\\\envs\\\\gputest\\\\code\\\\IPS\\\\data-digit\\\\5\\\\2020-03-08 12_11_31-Photos.png',\n",
       " 'C:\\\\Users\\\\quang\\\\Anaconda3\\\\envs\\\\gputest\\\\code\\\\IPS\\\\data-digit\\\\5\\\\2020-03-08 12_11_44-Photos.png',\n",
       " 'C:\\\\Users\\\\quang\\\\Anaconda3\\\\envs\\\\gputest\\\\code\\\\IPS\\\\data-digit\\\\5\\\\2020-03-08 12_11_53-Photos.png',\n",
       " 'C:\\\\Users\\\\quang\\\\Anaconda3\\\\envs\\\\gputest\\\\code\\\\IPS\\\\data-digit\\\\5\\\\2020-03-08 12_12_10-Photos.png',\n",
       " 'C:\\\\Users\\\\quang\\\\Anaconda3\\\\envs\\\\gputest\\\\code\\\\IPS\\\\data-digit\\\\5\\\\2020-03-08 12_12_14-Photos.png',\n",
       " 'C:\\\\Users\\\\quang\\\\Anaconda3\\\\envs\\\\gputest\\\\code\\\\IPS\\\\data-digit\\\\5\\\\2020-03-08 12_12_20-Photos.png',\n",
       " 'C:\\\\Users\\\\quang\\\\Anaconda3\\\\envs\\\\gputest\\\\code\\\\IPS\\\\data-digit\\\\5\\\\2020-03-08 12_12_25-Photos.png',\n",
       " 'C:\\\\Users\\\\quang\\\\Anaconda3\\\\envs\\\\gputest\\\\code\\\\IPS\\\\data-digit\\\\6\\\\2020-03-08 11_51_43-test_2.jpg \\u200e- Photos.png',\n",
       " 'C:\\\\Users\\\\quang\\\\Anaconda3\\\\envs\\\\gputest\\\\code\\\\IPS\\\\data-digit\\\\6\\\\2020-03-08 11_52_44-test_2.jpg \\u200e- Photos.png',\n",
       " 'C:\\\\Users\\\\quang\\\\Anaconda3\\\\envs\\\\gputest\\\\code\\\\IPS\\\\data-digit\\\\6\\\\2020-03-08 12_04_09-Photos.png',\n",
       " 'C:\\\\Users\\\\quang\\\\Anaconda3\\\\envs\\\\gputest\\\\code\\\\IPS\\\\data-digit\\\\6\\\\2020-03-08 12_04_40-Photos.png',\n",
       " 'C:\\\\Users\\\\quang\\\\Anaconda3\\\\envs\\\\gputest\\\\code\\\\IPS\\\\data-digit\\\\6\\\\2020-03-08 12_04_47-Photos.png',\n",
       " 'C:\\\\Users\\\\quang\\\\Anaconda3\\\\envs\\\\gputest\\\\code\\\\IPS\\\\data-digit\\\\6\\\\2020-03-08 12_05_20-Photos.png',\n",
       " 'C:\\\\Users\\\\quang\\\\Anaconda3\\\\envs\\\\gputest\\\\code\\\\IPS\\\\data-digit\\\\6\\\\2020-03-08 12_05_50-Photos.png',\n",
       " 'C:\\\\Users\\\\quang\\\\Anaconda3\\\\envs\\\\gputest\\\\code\\\\IPS\\\\data-digit\\\\6\\\\2020-03-08 12_05_56-Photos.png',\n",
       " 'C:\\\\Users\\\\quang\\\\Anaconda3\\\\envs\\\\gputest\\\\code\\\\IPS\\\\data-digit\\\\6\\\\2020-03-08 12_06_09-Photos.png',\n",
       " 'C:\\\\Users\\\\quang\\\\Anaconda3\\\\envs\\\\gputest\\\\code\\\\IPS\\\\data-digit\\\\6\\\\2020-03-08 12_06_47-Photos.png',\n",
       " 'C:\\\\Users\\\\quang\\\\Anaconda3\\\\envs\\\\gputest\\\\code\\\\IPS\\\\data-digit\\\\6\\\\2020-03-08 12_07_44-Photos.png',\n",
       " 'C:\\\\Users\\\\quang\\\\Anaconda3\\\\envs\\\\gputest\\\\code\\\\IPS\\\\data-digit\\\\6\\\\2020-03-08 12_08_01-Photos.png',\n",
       " 'C:\\\\Users\\\\quang\\\\Anaconda3\\\\envs\\\\gputest\\\\code\\\\IPS\\\\data-digit\\\\6\\\\2020-03-08 12_08_51-Photos.png',\n",
       " 'C:\\\\Users\\\\quang\\\\Anaconda3\\\\envs\\\\gputest\\\\code\\\\IPS\\\\data-digit\\\\6\\\\2020-03-08 12_09_43-Photos.png',\n",
       " 'C:\\\\Users\\\\quang\\\\Anaconda3\\\\envs\\\\gputest\\\\code\\\\IPS\\\\data-digit\\\\6\\\\2020-03-08 12_10_05-Photos.png',\n",
       " 'C:\\\\Users\\\\quang\\\\Anaconda3\\\\envs\\\\gputest\\\\code\\\\IPS\\\\data-digit\\\\6\\\\2020-03-08 12_10_12-Photos.png',\n",
       " 'C:\\\\Users\\\\quang\\\\Anaconda3\\\\envs\\\\gputest\\\\code\\\\IPS\\\\data-digit\\\\6\\\\2020-03-08 12_10_57-Photos.png',\n",
       " 'C:\\\\Users\\\\quang\\\\Anaconda3\\\\envs\\\\gputest\\\\code\\\\IPS\\\\data-digit\\\\6\\\\2020-03-08 12_11_41-Photos.png',\n",
       " 'C:\\\\Users\\\\quang\\\\Anaconda3\\\\envs\\\\gputest\\\\code\\\\IPS\\\\data-digit\\\\6\\\\2020-03-08 12_11_48-Photos.png',\n",
       " 'C:\\\\Users\\\\quang\\\\Anaconda3\\\\envs\\\\gputest\\\\code\\\\IPS\\\\data-digit\\\\6\\\\2020-03-08 12_12_33-Photos.png',\n",
       " 'C:\\\\Users\\\\quang\\\\Anaconda3\\\\envs\\\\gputest\\\\code\\\\IPS\\\\data-digit\\\\6\\\\2020-03-08 12_14_06-Photos.png',\n",
       " 'C:\\\\Users\\\\quang\\\\Anaconda3\\\\envs\\\\gputest\\\\code\\\\IPS\\\\data-digit\\\\6\\\\2020-03-08 12_15_09-Photos.png',\n",
       " 'C:\\\\Users\\\\quang\\\\Anaconda3\\\\envs\\\\gputest\\\\code\\\\IPS\\\\data-digit\\\\7\\\\2020-03-08 11_39_16-test_1.jpg \\u200e- Photos.png',\n",
       " 'C:\\\\Users\\\\quang\\\\Anaconda3\\\\envs\\\\gputest\\\\code\\\\IPS\\\\data-digit\\\\7\\\\2020-03-08 11_39_32-test_1.jpg \\u200e- Photos.png',\n",
       " 'C:\\\\Users\\\\quang\\\\Anaconda3\\\\envs\\\\gputest\\\\code\\\\IPS\\\\data-digit\\\\7\\\\2020-03-08 11_39_38-test_1.jpg \\u200e- Photos.png',\n",
       " 'C:\\\\Users\\\\quang\\\\Anaconda3\\\\envs\\\\gputest\\\\code\\\\IPS\\\\data-digit\\\\7\\\\2020-03-08 11_39_47-test_1.jpg \\u200e- Photos.png',\n",
       " 'C:\\\\Users\\\\quang\\\\Anaconda3\\\\envs\\\\gputest\\\\code\\\\IPS\\\\data-digit\\\\7\\\\2020-03-08 11_39_54-test_1.jpg \\u200e- Photos.png',\n",
       " 'C:\\\\Users\\\\quang\\\\Anaconda3\\\\envs\\\\gputest\\\\code\\\\IPS\\\\data-digit\\\\7\\\\2020-03-08 11_39_59-test_1.jpg \\u200e- Photos.png',\n",
       " 'C:\\\\Users\\\\quang\\\\Anaconda3\\\\envs\\\\gputest\\\\code\\\\IPS\\\\data-digit\\\\7\\\\2020-03-08 11_40_05-test_1.jpg \\u200e- Photos.png',\n",
       " 'C:\\\\Users\\\\quang\\\\Anaconda3\\\\envs\\\\gputest\\\\code\\\\IPS\\\\data-digit\\\\7\\\\2020-03-08 11_40_11-test_1.jpg \\u200e- Photos.png',\n",
       " 'C:\\\\Users\\\\quang\\\\Anaconda3\\\\envs\\\\gputest\\\\code\\\\IPS\\\\data-digit\\\\7\\\\2020-03-08 11_40_27-test_1.jpg \\u200e- Photos.png',\n",
       " 'C:\\\\Users\\\\quang\\\\Anaconda3\\\\envs\\\\gputest\\\\code\\\\IPS\\\\data-digit\\\\7\\\\2020-03-08 11_51_00-test_2.jpg \\u200e- Photos.png',\n",
       " 'C:\\\\Users\\\\quang\\\\Anaconda3\\\\envs\\\\gputest\\\\code\\\\IPS\\\\data-digit\\\\7\\\\2020-03-08 11_51_09-test_2.jpg \\u200e- Photos.png',\n",
       " 'C:\\\\Users\\\\quang\\\\Anaconda3\\\\envs\\\\gputest\\\\code\\\\IPS\\\\data-digit\\\\7\\\\2020-03-08 11_51_21-test_2.jpg \\u200e- Photos.png',\n",
       " 'C:\\\\Users\\\\quang\\\\Anaconda3\\\\envs\\\\gputest\\\\code\\\\IPS\\\\data-digit\\\\7\\\\2020-03-08 11_51_34-test_2.jpg \\u200e- Photos.png',\n",
       " 'C:\\\\Users\\\\quang\\\\Anaconda3\\\\envs\\\\gputest\\\\code\\\\IPS\\\\data-digit\\\\7\\\\2020-03-08 11_52_03-test_2.jpg \\u200e- Photos.png',\n",
       " 'C:\\\\Users\\\\quang\\\\Anaconda3\\\\envs\\\\gputest\\\\code\\\\IPS\\\\data-digit\\\\7\\\\2020-03-08 11_52_12-test_2.jpg \\u200e- Photos.png',\n",
       " 'C:\\\\Users\\\\quang\\\\Anaconda3\\\\envs\\\\gputest\\\\code\\\\IPS\\\\data-digit\\\\7\\\\2020-03-08 11_52_32-test_2.jpg \\u200e- Photos.png',\n",
       " 'C:\\\\Users\\\\quang\\\\Anaconda3\\\\envs\\\\gputest\\\\code\\\\IPS\\\\data-digit\\\\7\\\\2020-03-08 11_52_48-test_2.jpg \\u200e- Photos.png',\n",
       " 'C:\\\\Users\\\\quang\\\\Anaconda3\\\\envs\\\\gputest\\\\code\\\\IPS\\\\data-digit\\\\7\\\\2020-03-08 11_52_59-test_2.jpg \\u200e- Photos.png',\n",
       " 'C:\\\\Users\\\\quang\\\\Anaconda3\\\\envs\\\\gputest\\\\code\\\\IPS\\\\data-digit\\\\7\\\\2020-03-08 11_53_24-test_2.jpg \\u200e- Photos.png',\n",
       " 'C:\\\\Users\\\\quang\\\\Anaconda3\\\\envs\\\\gputest\\\\code\\\\IPS\\\\data-digit\\\\7\\\\2020-03-08 11_53_28-test_2.jpg \\u200e- Photos.png',\n",
       " 'C:\\\\Users\\\\quang\\\\Anaconda3\\\\envs\\\\gputest\\\\code\\\\IPS\\\\data-digit\\\\7\\\\2020-03-08 11_53_56-test_2.jpg \\u200e- Photos.png',\n",
       " 'C:\\\\Users\\\\quang\\\\Anaconda3\\\\envs\\\\gputest\\\\code\\\\IPS\\\\data-digit\\\\7\\\\2020-03-08 11_54_20-test_2.jpg \\u200e- Photos.png',\n",
       " 'C:\\\\Users\\\\quang\\\\Anaconda3\\\\envs\\\\gputest\\\\code\\\\IPS\\\\data-digit\\\\7\\\\2020-03-08 11_54_24-test_2.jpg \\u200e- Photos.png',\n",
       " 'C:\\\\Users\\\\quang\\\\Anaconda3\\\\envs\\\\gputest\\\\code\\\\IPS\\\\data-digit\\\\7\\\\2020-03-08 11_54_43-test_2.jpg \\u200e- Photos.png',\n",
       " 'C:\\\\Users\\\\quang\\\\Anaconda3\\\\envs\\\\gputest\\\\code\\\\IPS\\\\data-digit\\\\7\\\\2020-03-08 11_54_47-test_2.jpg \\u200e- Photos.png',\n",
       " 'C:\\\\Users\\\\quang\\\\Anaconda3\\\\envs\\\\gputest\\\\code\\\\IPS\\\\data-digit\\\\7\\\\2020-03-08 11_55_06-test_2.jpg \\u200e- Photos.png',\n",
       " 'C:\\\\Users\\\\quang\\\\Anaconda3\\\\envs\\\\gputest\\\\code\\\\IPS\\\\data-digit\\\\7\\\\2020-03-08 11_55_56-test_2.jpg \\u200e- Photos.png',\n",
       " 'C:\\\\Users\\\\quang\\\\Anaconda3\\\\envs\\\\gputest\\\\code\\\\IPS\\\\data-digit\\\\7\\\\2020-03-08 11_55_59-test_2.jpg \\u200e- Photos.png',\n",
       " 'C:\\\\Users\\\\quang\\\\Anaconda3\\\\envs\\\\gputest\\\\code\\\\IPS\\\\data-digit\\\\7\\\\2020-03-08 11_56_07-test_2.jpg \\u200e- Photos.png',\n",
       " 'C:\\\\Users\\\\quang\\\\Anaconda3\\\\envs\\\\gputest\\\\code\\\\IPS\\\\data-digit\\\\7\\\\2020-03-08 11_56_43-test_2.jpg \\u200e- Photos.png',\n",
       " 'C:\\\\Users\\\\quang\\\\Anaconda3\\\\envs\\\\gputest\\\\code\\\\IPS\\\\data-digit\\\\7\\\\2020-03-08 11_56_47-test_2.jpg \\u200e- Photos.png',\n",
       " 'C:\\\\Users\\\\quang\\\\Anaconda3\\\\envs\\\\gputest\\\\code\\\\IPS\\\\data-digit\\\\7\\\\2020-03-08 12_04_23-Photos.png',\n",
       " 'C:\\\\Users\\\\quang\\\\Anaconda3\\\\envs\\\\gputest\\\\code\\\\IPS\\\\data-digit\\\\7\\\\2020-03-08 12_04_27-Photos.png',\n",
       " 'C:\\\\Users\\\\quang\\\\Anaconda3\\\\envs\\\\gputest\\\\code\\\\IPS\\\\data-digit\\\\7\\\\2020-03-08 12_04_31-Photos.png',\n",
       " 'C:\\\\Users\\\\quang\\\\Anaconda3\\\\envs\\\\gputest\\\\code\\\\IPS\\\\data-digit\\\\7\\\\2020-03-08 12_04_53-Photos.png',\n",
       " 'C:\\\\Users\\\\quang\\\\Anaconda3\\\\envs\\\\gputest\\\\code\\\\IPS\\\\data-digit\\\\7\\\\2020-03-08 12_05_03-Photos.png',\n",
       " 'C:\\\\Users\\\\quang\\\\Anaconda3\\\\envs\\\\gputest\\\\code\\\\IPS\\\\data-digit\\\\7\\\\2020-03-08 12_05_06-Photos.png',\n",
       " 'C:\\\\Users\\\\quang\\\\Anaconda3\\\\envs\\\\gputest\\\\code\\\\IPS\\\\data-digit\\\\7\\\\2020-03-08 12_05_53-Photos.png',\n",
       " 'C:\\\\Users\\\\quang\\\\Anaconda3\\\\envs\\\\gputest\\\\code\\\\IPS\\\\data-digit\\\\7\\\\2020-03-08 12_06_05-Photos.png',\n",
       " 'C:\\\\Users\\\\quang\\\\Anaconda3\\\\envs\\\\gputest\\\\code\\\\IPS\\\\data-digit\\\\7\\\\2020-03-08 12_06_22-Photos.png',\n",
       " 'C:\\\\Users\\\\quang\\\\Anaconda3\\\\envs\\\\gputest\\\\code\\\\IPS\\\\data-digit\\\\7\\\\2020-03-08 12_06_33-Photos.png',\n",
       " 'C:\\\\Users\\\\quang\\\\Anaconda3\\\\envs\\\\gputest\\\\code\\\\IPS\\\\data-digit\\\\7\\\\2020-03-08 12_06_42-Photos.png',\n",
       " 'C:\\\\Users\\\\quang\\\\Anaconda3\\\\envs\\\\gputest\\\\code\\\\IPS\\\\data-digit\\\\7\\\\2020-03-08 12_08_06-Photos.png',\n",
       " 'C:\\\\Users\\\\quang\\\\Anaconda3\\\\envs\\\\gputest\\\\code\\\\IPS\\\\data-digit\\\\7\\\\2020-03-08 12_09_06-Photos.png',\n",
       " 'C:\\\\Users\\\\quang\\\\Anaconda3\\\\envs\\\\gputest\\\\code\\\\IPS\\\\data-digit\\\\7\\\\2020-03-08 12_09_29-Photos.png',\n",
       " 'C:\\\\Users\\\\quang\\\\Anaconda3\\\\envs\\\\gputest\\\\code\\\\IPS\\\\data-digit\\\\7\\\\2020-03-08 12_10_19-Photos.png',\n",
       " 'C:\\\\Users\\\\quang\\\\Anaconda3\\\\envs\\\\gputest\\\\code\\\\IPS\\\\data-digit\\\\7\\\\2020-03-08 12_10_23-Photos.png',\n",
       " 'C:\\\\Users\\\\quang\\\\Anaconda3\\\\envs\\\\gputest\\\\code\\\\IPS\\\\data-digit\\\\7\\\\2020-03-08 12_10_38-Photos.png',\n",
       " 'C:\\\\Users\\\\quang\\\\Anaconda3\\\\envs\\\\gputest\\\\code\\\\IPS\\\\data-digit\\\\7\\\\2020-03-08 12_11_05-Photos.png',\n",
       " 'C:\\\\Users\\\\quang\\\\Anaconda3\\\\envs\\\\gputest\\\\code\\\\IPS\\\\data-digit\\\\7\\\\2020-03-08 12_11_10-Photos.png',\n",
       " 'C:\\\\Users\\\\quang\\\\Anaconda3\\\\envs\\\\gputest\\\\code\\\\IPS\\\\data-digit\\\\7\\\\2020-03-08 12_12_07-Photos.png',\n",
       " 'C:\\\\Users\\\\quang\\\\Anaconda3\\\\envs\\\\gputest\\\\code\\\\IPS\\\\data-digit\\\\7\\\\2020-03-08 12_13_03-Photos.png',\n",
       " 'C:\\\\Users\\\\quang\\\\Anaconda3\\\\envs\\\\gputest\\\\code\\\\IPS\\\\data-digit\\\\7\\\\2020-03-08 12_13_08-Photos.png',\n",
       " 'C:\\\\Users\\\\quang\\\\Anaconda3\\\\envs\\\\gputest\\\\code\\\\IPS\\\\data-digit\\\\7\\\\2020-03-08 12_13_20-Photos.png',\n",
       " 'C:\\\\Users\\\\quang\\\\Anaconda3\\\\envs\\\\gputest\\\\code\\\\IPS\\\\data-digit\\\\7\\\\2020-03-08 12_13_36-Photos.png',\n",
       " 'C:\\\\Users\\\\quang\\\\Anaconda3\\\\envs\\\\gputest\\\\code\\\\IPS\\\\data-digit\\\\7\\\\2020-03-08 12_13_43-Photos.png',\n",
       " 'C:\\\\Users\\\\quang\\\\Anaconda3\\\\envs\\\\gputest\\\\code\\\\IPS\\\\data-digit\\\\7\\\\2020-03-08 12_13_53-Photos.png',\n",
       " 'C:\\\\Users\\\\quang\\\\Anaconda3\\\\envs\\\\gputest\\\\code\\\\IPS\\\\data-digit\\\\7\\\\2020-03-08 12_14_09-Photos.png',\n",
       " 'C:\\\\Users\\\\quang\\\\Anaconda3\\\\envs\\\\gputest\\\\code\\\\IPS\\\\data-digit\\\\7\\\\2020-03-08 12_14_31-Photos.png',\n",
       " 'C:\\\\Users\\\\quang\\\\Anaconda3\\\\envs\\\\gputest\\\\code\\\\IPS\\\\data-digit\\\\7\\\\2020-03-08 12_14_40-Photos.png',\n",
       " 'C:\\\\Users\\\\quang\\\\Anaconda3\\\\envs\\\\gputest\\\\code\\\\IPS\\\\data-digit\\\\7\\\\2020-03-08 12_15_06-Photos.png',\n",
       " 'C:\\\\Users\\\\quang\\\\Anaconda3\\\\envs\\\\gputest\\\\code\\\\IPS\\\\data-digit\\\\7\\\\2020-03-08 12_15_19-Photos.png',\n",
       " 'C:\\\\Users\\\\quang\\\\Anaconda3\\\\envs\\\\gputest\\\\code\\\\IPS\\\\data-digit\\\\7\\\\2020-03-08 12_15_32-Photos.png',\n",
       " 'C:\\\\Users\\\\quang\\\\Anaconda3\\\\envs\\\\gputest\\\\code\\\\IPS\\\\data-digit\\\\7\\\\2020-03-08 12_15_41-Photos.png',\n",
       " 'C:\\\\Users\\\\quang\\\\Anaconda3\\\\envs\\\\gputest\\\\code\\\\IPS\\\\data-digit\\\\7\\\\2020-03-08 12_15_53-Photos.png',\n",
       " 'C:\\\\Users\\\\quang\\\\Anaconda3\\\\envs\\\\gputest\\\\code\\\\IPS\\\\data-digit\\\\7\\\\2020-03-08 12_16_08-Photos.png',\n",
       " 'C:\\\\Users\\\\quang\\\\Anaconda3\\\\envs\\\\gputest\\\\code\\\\IPS\\\\data-digit\\\\7\\\\2020-03-08 12_16_35-Photos.png',\n",
       " 'C:\\\\Users\\\\quang\\\\Anaconda3\\\\envs\\\\gputest\\\\code\\\\IPS\\\\data-digit\\\\7\\\\2020-03-08 12_16_49-Photos.png',\n",
       " 'C:\\\\Users\\\\quang\\\\Anaconda3\\\\envs\\\\gputest\\\\code\\\\IPS\\\\data-digit\\\\7\\\\2020-03-08 12_16_53-Photos.png',\n",
       " 'C:\\\\Users\\\\quang\\\\Anaconda3\\\\envs\\\\gputest\\\\code\\\\IPS\\\\data-digit\\\\7\\\\2020-03-08 12_17_04-Photos.png',\n",
       " 'C:\\\\Users\\\\quang\\\\Anaconda3\\\\envs\\\\gputest\\\\code\\\\IPS\\\\data-digit\\\\7\\\\2020-03-08 12_17_21-Photos.png',\n",
       " 'C:\\\\Users\\\\quang\\\\Anaconda3\\\\envs\\\\gputest\\\\code\\\\IPS\\\\data-digit\\\\7\\\\2020-03-08 12_17_29-Photos.png',\n",
       " 'C:\\\\Users\\\\quang\\\\Anaconda3\\\\envs\\\\gputest\\\\code\\\\IPS\\\\data-digit\\\\7\\\\2020-03-08 12_17_32-Photos.png',\n",
       " 'C:\\\\Users\\\\quang\\\\Anaconda3\\\\envs\\\\gputest\\\\code\\\\IPS\\\\data-digit\\\\7\\\\2020-03-08 12_17_42-Photos.png',\n",
       " 'C:\\\\Users\\\\quang\\\\Anaconda3\\\\envs\\\\gputest\\\\code\\\\IPS\\\\data-digit\\\\7\\\\2020-03-08 12_19_18-Photos.png',\n",
       " 'C:\\\\Users\\\\quang\\\\Anaconda3\\\\envs\\\\gputest\\\\code\\\\IPS\\\\data-digit\\\\7\\\\2020-03-08 12_20_31-test_5.jpg \\u200e- Photos.png',\n",
       " 'C:\\\\Users\\\\quang\\\\Anaconda3\\\\envs\\\\gputest\\\\code\\\\IPS\\\\data-digit\\\\7\\\\2020-03-08 12_20_41-test_5.jpg \\u200e- Photos.png',\n",
       " 'C:\\\\Users\\\\quang\\\\Anaconda3\\\\envs\\\\gputest\\\\code\\\\IPS\\\\data-digit\\\\7\\\\2020-03-08 12_20_59-test_5.jpg \\u200e- Photos.png',\n",
       " 'C:\\\\Users\\\\quang\\\\Anaconda3\\\\envs\\\\gputest\\\\code\\\\IPS\\\\data-digit\\\\8\\\\2020-03-08 11_41_03-test_1.jpg \\u200e- Photos.png',\n",
       " 'C:\\\\Users\\\\quang\\\\Anaconda3\\\\envs\\\\gputest\\\\code\\\\IPS\\\\data-digit\\\\8\\\\2020-03-08 11_41_08-test_1.jpg \\u200e- Photos.png',\n",
       " 'C:\\\\Users\\\\quang\\\\Anaconda3\\\\envs\\\\gputest\\\\code\\\\IPS\\\\data-digit\\\\8\\\\2020-03-08 11_41_12-test_1.jpg \\u200e- Photos.png',\n",
       " 'C:\\\\Users\\\\quang\\\\Anaconda3\\\\envs\\\\gputest\\\\code\\\\IPS\\\\data-digit\\\\8\\\\2020-03-08 11_41_19-test_1.jpg \\u200e- Photos.png',\n",
       " 'C:\\\\Users\\\\quang\\\\Anaconda3\\\\envs\\\\gputest\\\\code\\\\IPS\\\\data-digit\\\\8\\\\2020-03-08 11_41_23-test_1.jpg \\u200e- Photos.png',\n",
       " 'C:\\\\Users\\\\quang\\\\Anaconda3\\\\envs\\\\gputest\\\\code\\\\IPS\\\\data-digit\\\\8\\\\2020-03-08 11_41_32-test_1.jpg \\u200e- Photos.png',\n",
       " 'C:\\\\Users\\\\quang\\\\Anaconda3\\\\envs\\\\gputest\\\\code\\\\IPS\\\\data-digit\\\\8\\\\2020-03-08 11_41_37-test_1.jpg \\u200e- Photos.png',\n",
       " 'C:\\\\Users\\\\quang\\\\Anaconda3\\\\envs\\\\gputest\\\\code\\\\IPS\\\\data-digit\\\\8\\\\2020-03-08 11_41_44-test_1.jpg \\u200e- Photos.png',\n",
       " 'C:\\\\Users\\\\quang\\\\Anaconda3\\\\envs\\\\gputest\\\\code\\\\IPS\\\\data-digit\\\\8\\\\2020-03-08 11_41_48-test_1.jpg \\u200e- Photos.png',\n",
       " 'C:\\\\Users\\\\quang\\\\Anaconda3\\\\envs\\\\gputest\\\\code\\\\IPS\\\\data-digit\\\\8\\\\2020-03-08 11_41_55-test_1.jpg \\u200e- Photos.png',\n",
       " 'C:\\\\Users\\\\quang\\\\Anaconda3\\\\envs\\\\gputest\\\\code\\\\IPS\\\\data-digit\\\\8\\\\2020-03-08 11_42_01-test_1.jpg \\u200e- Photos.png',\n",
       " 'C:\\\\Users\\\\quang\\\\Anaconda3\\\\envs\\\\gputest\\\\code\\\\IPS\\\\data-digit\\\\8\\\\2020-03-08 11_42_05-test_1.jpg \\u200e- Photos.png',\n",
       " 'C:\\\\Users\\\\quang\\\\Anaconda3\\\\envs\\\\gputest\\\\code\\\\IPS\\\\data-digit\\\\8\\\\2020-03-08 11_42_10-test_1.jpg \\u200e- Photos.png',\n",
       " 'C:\\\\Users\\\\quang\\\\Anaconda3\\\\envs\\\\gputest\\\\code\\\\IPS\\\\data-digit\\\\8\\\\2020-03-08 11_50_52-test_2.jpg \\u200e- Photos.png',\n",
       " 'C:\\\\Users\\\\quang\\\\Anaconda3\\\\envs\\\\gputest\\\\code\\\\IPS\\\\data-digit\\\\8\\\\2020-03-08 11_50_56-test_2.jpg \\u200e- Photos.png',\n",
       " 'C:\\\\Users\\\\quang\\\\Anaconda3\\\\envs\\\\gputest\\\\code\\\\IPS\\\\data-digit\\\\8\\\\2020-03-08 11_51_27-test_2.jpg \\u200e- Photos.png',\n",
       " 'C:\\\\Users\\\\quang\\\\Anaconda3\\\\envs\\\\gputest\\\\code\\\\IPS\\\\data-digit\\\\8\\\\2020-03-08 11_51_39-test_2.jpg \\u200e- Photos.png',\n",
       " 'C:\\\\Users\\\\quang\\\\Anaconda3\\\\envs\\\\gputest\\\\code\\\\IPS\\\\data-digit\\\\8\\\\2020-03-08 11_52_15-test_2.jpg \\u200e- Photos.png',\n",
       " 'C:\\\\Users\\\\quang\\\\Anaconda3\\\\envs\\\\gputest\\\\code\\\\IPS\\\\data-digit\\\\8\\\\2020-03-08 11_52_38-test_2.jpg \\u200e- Photos.png',\n",
       " 'C:\\\\Users\\\\quang\\\\Anaconda3\\\\envs\\\\gputest\\\\code\\\\IPS\\\\data-digit\\\\8\\\\2020-03-08 11_52_55-test_2.jpg \\u200e- Photos.png',\n",
       " 'C:\\\\Users\\\\quang\\\\Anaconda3\\\\envs\\\\gputest\\\\code\\\\IPS\\\\data-digit\\\\8\\\\2020-03-08 11_53_17-test_2.jpg \\u200e- Photos.png',\n",
       " 'C:\\\\Users\\\\quang\\\\Anaconda3\\\\envs\\\\gputest\\\\code\\\\IPS\\\\data-digit\\\\8\\\\2020-03-08 11_53_40-test_2.jpg \\u200e- Photos.png',\n",
       " 'C:\\\\Users\\\\quang\\\\Anaconda3\\\\envs\\\\gputest\\\\code\\\\IPS\\\\data-digit\\\\8\\\\2020-03-08 11_54_16-test_2.jpg \\u200e- Photos.png',\n",
       " 'C:\\\\Users\\\\quang\\\\Anaconda3\\\\envs\\\\gputest\\\\code\\\\IPS\\\\data-digit\\\\8\\\\2020-03-08 11_54_35-test_2.jpg \\u200e- Photos.png',\n",
       " 'C:\\\\Users\\\\quang\\\\Anaconda3\\\\envs\\\\gputest\\\\code\\\\IPS\\\\data-digit\\\\8\\\\2020-03-08 11_54_39-test_2.jpg \\u200e- Photos.png',\n",
       " 'C:\\\\Users\\\\quang\\\\Anaconda3\\\\envs\\\\gputest\\\\code\\\\IPS\\\\data-digit\\\\8\\\\2020-03-08 11_55_02-test_2.jpg \\u200e- Photos.png',\n",
       " 'C:\\\\Users\\\\quang\\\\Anaconda3\\\\envs\\\\gputest\\\\code\\\\IPS\\\\data-digit\\\\8\\\\2020-03-08 11_55_41-test_2.jpg \\u200e- Photos.png',\n",
       " 'C:\\\\Users\\\\quang\\\\Anaconda3\\\\envs\\\\gputest\\\\code\\\\IPS\\\\data-digit\\\\8\\\\2020-03-08 11_55_47-test_2.jpg \\u200e- Photos.png',\n",
       " 'C:\\\\Users\\\\quang\\\\Anaconda3\\\\envs\\\\gputest\\\\code\\\\IPS\\\\data-digit\\\\8\\\\2020-03-08 11_55_50-test_2.jpg \\u200e- Photos.png',\n",
       " 'C:\\\\Users\\\\quang\\\\Anaconda3\\\\envs\\\\gputest\\\\code\\\\IPS\\\\data-digit\\\\8\\\\2020-03-08 11_55_53-test_2.jpg \\u200e- Photos.png',\n",
       " 'C:\\\\Users\\\\quang\\\\Anaconda3\\\\envs\\\\gputest\\\\code\\\\IPS\\\\data-digit\\\\8\\\\2020-03-08 11_56_30-test_2.jpg \\u200e- Photos.png',\n",
       " 'C:\\\\Users\\\\quang\\\\Anaconda3\\\\envs\\\\gputest\\\\code\\\\IPS\\\\data-digit\\\\8\\\\2020-03-08 11_56_34-test_2.jpg \\u200e- Photos.png',\n",
       " 'C:\\\\Users\\\\quang\\\\Anaconda3\\\\envs\\\\gputest\\\\code\\\\IPS\\\\data-digit\\\\8\\\\2020-03-08 11_56_39-test_2.jpg \\u200e- Photos.png',\n",
       " 'C:\\\\Users\\\\quang\\\\Anaconda3\\\\envs\\\\gputest\\\\code\\\\IPS\\\\data-digit\\\\8\\\\2020-03-08 12_04_01-Photos.png',\n",
       " 'C:\\\\Users\\\\quang\\\\Anaconda3\\\\envs\\\\gputest\\\\code\\\\IPS\\\\data-digit\\\\8\\\\2020-03-08 12_04_34-Photos.png',\n",
       " 'C:\\\\Users\\\\quang\\\\Anaconda3\\\\envs\\\\gputest\\\\code\\\\IPS\\\\data-digit\\\\8\\\\2020-03-08 12_04_50-Photos.png',\n",
       " 'C:\\\\Users\\\\quang\\\\Anaconda3\\\\envs\\\\gputest\\\\code\\\\IPS\\\\data-digit\\\\8\\\\2020-03-08 12_05_38-Photos.png',\n",
       " 'C:\\\\Users\\\\quang\\\\Anaconda3\\\\envs\\\\gputest\\\\code\\\\IPS\\\\data-digit\\\\8\\\\2020-03-08 12_05_41-Photos.png',\n",
       " 'C:\\\\Users\\\\quang\\\\Anaconda3\\\\envs\\\\gputest\\\\code\\\\IPS\\\\data-digit\\\\8\\\\2020-03-08 12_06_15-Photos.png',\n",
       " 'C:\\\\Users\\\\quang\\\\Anaconda3\\\\envs\\\\gputest\\\\code\\\\IPS\\\\data-digit\\\\8\\\\2020-03-08 12_06_40-Photos.png',\n",
       " 'C:\\\\Users\\\\quang\\\\Anaconda3\\\\envs\\\\gputest\\\\code\\\\IPS\\\\data-digit\\\\8\\\\2020-03-08 12_06_50-Photos.png',\n",
       " 'C:\\\\Users\\\\quang\\\\Anaconda3\\\\envs\\\\gputest\\\\code\\\\IPS\\\\data-digit\\\\8\\\\2020-03-08 12_07_32-Photos.png',\n",
       " 'C:\\\\Users\\\\quang\\\\Anaconda3\\\\envs\\\\gputest\\\\code\\\\IPS\\\\data-digit\\\\8\\\\2020-03-08 12_07_48-Photos.png',\n",
       " 'C:\\\\Users\\\\quang\\\\Anaconda3\\\\envs\\\\gputest\\\\code\\\\IPS\\\\data-digit\\\\8\\\\2020-03-08 12_08_15-Photos.png',\n",
       " 'C:\\\\Users\\\\quang\\\\Anaconda3\\\\envs\\\\gputest\\\\code\\\\IPS\\\\data-digit\\\\8\\\\2020-03-08 12_08_56-Photos.png',\n",
       " 'C:\\\\Users\\\\quang\\\\Anaconda3\\\\envs\\\\gputest\\\\code\\\\IPS\\\\data-digit\\\\8\\\\2020-03-08 12_10_01-Photos.png',\n",
       " 'C:\\\\Users\\\\quang\\\\Anaconda3\\\\envs\\\\gputest\\\\code\\\\IPS\\\\data-digit\\\\8\\\\2020-03-08 12_10_26-Photos.png',\n",
       " 'C:\\\\Users\\\\quang\\\\Anaconda3\\\\envs\\\\gputest\\\\code\\\\IPS\\\\data-digit\\\\8\\\\2020-03-08 12_10_35-Photos.png',\n",
       " 'C:\\\\Users\\\\quang\\\\Anaconda3\\\\envs\\\\gputest\\\\code\\\\IPS\\\\data-digit\\\\8\\\\2020-03-08 12_10_42-Photos.png',\n",
       " 'C:\\\\Users\\\\quang\\\\Anaconda3\\\\envs\\\\gputest\\\\code\\\\IPS\\\\data-digit\\\\8\\\\2020-03-08 12_10_47-Photos.png',\n",
       " 'C:\\\\Users\\\\quang\\\\Anaconda3\\\\envs\\\\gputest\\\\code\\\\IPS\\\\data-digit\\\\8\\\\2020-03-08 12_13_30-Photos.png',\n",
       " 'C:\\\\Users\\\\quang\\\\Anaconda3\\\\envs\\\\gputest\\\\code\\\\IPS\\\\data-digit\\\\8\\\\2020-03-08 12_13_33-Photos.png',\n",
       " 'C:\\\\Users\\\\quang\\\\Anaconda3\\\\envs\\\\gputest\\\\code\\\\IPS\\\\data-digit\\\\8\\\\2020-03-08 12_13_39-Photos.png',\n",
       " 'C:\\\\Users\\\\quang\\\\Anaconda3\\\\envs\\\\gputest\\\\code\\\\IPS\\\\data-digit\\\\8\\\\2020-03-08 12_13_56-Photos.png',\n",
       " 'C:\\\\Users\\\\quang\\\\Anaconda3\\\\envs\\\\gputest\\\\code\\\\IPS\\\\data-digit\\\\8\\\\2020-03-08 12_14_27-Photos.png',\n",
       " 'C:\\\\Users\\\\quang\\\\Anaconda3\\\\envs\\\\gputest\\\\code\\\\IPS\\\\data-digit\\\\8\\\\2020-03-08 12_14_37-Photos.png',\n",
       " 'C:\\\\Users\\\\quang\\\\Anaconda3\\\\envs\\\\gputest\\\\code\\\\IPS\\\\data-digit\\\\8\\\\2020-03-08 12_14_45-Photos.png',\n",
       " 'C:\\\\Users\\\\quang\\\\Anaconda3\\\\envs\\\\gputest\\\\code\\\\IPS\\\\data-digit\\\\8\\\\2020-03-08 12_14_52-Photos.png',\n",
       " 'C:\\\\Users\\\\quang\\\\Anaconda3\\\\envs\\\\gputest\\\\code\\\\IPS\\\\data-digit\\\\8\\\\2020-03-08 12_14_55-Photos.png',\n",
       " 'C:\\\\Users\\\\quang\\\\Anaconda3\\\\envs\\\\gputest\\\\code\\\\IPS\\\\data-digit\\\\8\\\\2020-03-08 12_15_01-Photos.png',\n",
       " 'C:\\\\Users\\\\quang\\\\Anaconda3\\\\envs\\\\gputest\\\\code\\\\IPS\\\\data-digit\\\\8\\\\2020-03-08 12_15_26-Photos.png',\n",
       " 'C:\\\\Users\\\\quang\\\\Anaconda3\\\\envs\\\\gputest\\\\code\\\\IPS\\\\data-digit\\\\8\\\\2020-03-08 12_15_38-Photos.png',\n",
       " 'C:\\\\Users\\\\quang\\\\Anaconda3\\\\envs\\\\gputest\\\\code\\\\IPS\\\\data-digit\\\\8\\\\2020-03-08 12_16_32-Photos.png',\n",
       " 'C:\\\\Users\\\\quang\\\\Anaconda3\\\\envs\\\\gputest\\\\code\\\\IPS\\\\data-digit\\\\8\\\\2020-03-08 12_17_18-Photos.png',\n",
       " 'C:\\\\Users\\\\quang\\\\Anaconda3\\\\envs\\\\gputest\\\\code\\\\IPS\\\\data-digit\\\\8\\\\2020-03-08 12_17_36-Photos.png',\n",
       " 'C:\\\\Users\\\\quang\\\\Anaconda3\\\\envs\\\\gputest\\\\code\\\\IPS\\\\data-digit\\\\8\\\\2020-03-08 12_17_39-Photos.png',\n",
       " 'C:\\\\Users\\\\quang\\\\Anaconda3\\\\envs\\\\gputest\\\\code\\\\IPS\\\\data-digit\\\\8\\\\2020-03-08 12_18_24-Photos.png',\n",
       " 'C:\\\\Users\\\\quang\\\\Anaconda3\\\\envs\\\\gputest\\\\code\\\\IPS\\\\data-digit\\\\8\\\\2020-03-08 12_18_27-Photos.png',\n",
       " 'C:\\\\Users\\\\quang\\\\Anaconda3\\\\envs\\\\gputest\\\\code\\\\IPS\\\\data-digit\\\\8\\\\2020-03-08 12_18_41-Photos.png',\n",
       " 'C:\\\\Users\\\\quang\\\\Anaconda3\\\\envs\\\\gputest\\\\code\\\\IPS\\\\data-digit\\\\8\\\\2020-03-08 12_18_45-Photos.png',\n",
       " 'C:\\\\Users\\\\quang\\\\Anaconda3\\\\envs\\\\gputest\\\\code\\\\IPS\\\\data-digit\\\\8\\\\2020-03-08 12_18_55-Photos.png',\n",
       " 'C:\\\\Users\\\\quang\\\\Anaconda3\\\\envs\\\\gputest\\\\code\\\\IPS\\\\data-digit\\\\8\\\\2020-03-08 12_19_38-Photos.png',\n",
       " 'C:\\\\Users\\\\quang\\\\Anaconda3\\\\envs\\\\gputest\\\\code\\\\IPS\\\\data-digit\\\\8\\\\2020-03-08 12_22_05-test_5.jpg \\u200e- Photos.png',\n",
       " 'C:\\\\Users\\\\quang\\\\Anaconda3\\\\envs\\\\gputest\\\\code\\\\IPS\\\\data-digit\\\\8\\\\2020-03-08 12_22_23-test_5.jpg \\u200e- Photos.png',\n",
       " 'C:\\\\Users\\\\quang\\\\Anaconda3\\\\envs\\\\gputest\\\\code\\\\IPS\\\\data-digit\\\\9\\\\2020-03-08 11_42_38-test_1.jpg \\u200e- Photos.png',\n",
       " 'C:\\\\Users\\\\quang\\\\Anaconda3\\\\envs\\\\gputest\\\\code\\\\IPS\\\\data-digit\\\\9\\\\2020-03-08 11_42_42-test_1.jpg \\u200e- Photos.png',\n",
       " 'C:\\\\Users\\\\quang\\\\Anaconda3\\\\envs\\\\gputest\\\\code\\\\IPS\\\\data-digit\\\\9\\\\2020-03-08 11_42_48-test_1.jpg \\u200e- Photos.png',\n",
       " 'C:\\\\Users\\\\quang\\\\Anaconda3\\\\envs\\\\gputest\\\\code\\\\IPS\\\\data-digit\\\\9\\\\2020-03-08 11_42_53-test_1.jpg \\u200e- Photos.png',\n",
       " 'C:\\\\Users\\\\quang\\\\Anaconda3\\\\envs\\\\gputest\\\\code\\\\IPS\\\\data-digit\\\\9\\\\2020-03-08 11_42_59-test_1.jpg \\u200e- Photos.png',\n",
       " 'C:\\\\Users\\\\quang\\\\Anaconda3\\\\envs\\\\gputest\\\\code\\\\IPS\\\\data-digit\\\\9\\\\2020-03-08 11_43_04-test_1.jpg \\u200e- Photos.png',\n",
       " 'C:\\\\Users\\\\quang\\\\Anaconda3\\\\envs\\\\gputest\\\\code\\\\IPS\\\\data-digit\\\\9\\\\2020-03-08 11_43_08-test_1.jpg \\u200e- Photos.png',\n",
       " 'C:\\\\Users\\\\quang\\\\Anaconda3\\\\envs\\\\gputest\\\\code\\\\IPS\\\\data-digit\\\\9\\\\2020-03-08 11_43_13-test_1.jpg \\u200e- Photos.png',\n",
       " 'C:\\\\Users\\\\quang\\\\Anaconda3\\\\envs\\\\gputest\\\\code\\\\IPS\\\\data-digit\\\\9\\\\2020-03-08 11_43_18-test_1.jpg \\u200e- Photos.png',\n",
       " 'C:\\\\Users\\\\quang\\\\Anaconda3\\\\envs\\\\gputest\\\\code\\\\IPS\\\\data-digit\\\\9\\\\2020-03-08 11_43_23-test_1.jpg \\u200e- Photos.png',\n",
       " 'C:\\\\Users\\\\quang\\\\Anaconda3\\\\envs\\\\gputest\\\\code\\\\IPS\\\\data-digit\\\\9\\\\2020-03-08 11_43_28-test_1.jpg \\u200e- Photos.png',\n",
       " 'C:\\\\Users\\\\quang\\\\Anaconda3\\\\envs\\\\gputest\\\\code\\\\IPS\\\\data-digit\\\\9\\\\2020-03-08 11_43_33-test_1.jpg \\u200e- Photos.png',\n",
       " 'C:\\\\Users\\\\quang\\\\Anaconda3\\\\envs\\\\gputest\\\\code\\\\IPS\\\\data-digit\\\\9\\\\2020-03-08 11_43_38-test_1.jpg \\u200e- Photos.png',\n",
       " 'C:\\\\Users\\\\quang\\\\Anaconda3\\\\envs\\\\gputest\\\\code\\\\IPS\\\\data-digit\\\\9\\\\2020-03-08 11_43_42-test_1.jpg \\u200e- Photos.png',\n",
       " 'C:\\\\Users\\\\quang\\\\Anaconda3\\\\envs\\\\gputest\\\\code\\\\IPS\\\\data-digit\\\\9\\\\2020-03-08 11_43_48-test_1.jpg \\u200e- Photos.png',\n",
       " 'C:\\\\Users\\\\quang\\\\Anaconda3\\\\envs\\\\gputest\\\\code\\\\IPS\\\\data-digit\\\\9\\\\2020-03-08 11_43_52-test_1.jpg \\u200e- Photos.png',\n",
       " 'C:\\\\Users\\\\quang\\\\Anaconda3\\\\envs\\\\gputest\\\\code\\\\IPS\\\\data-digit\\\\9\\\\2020-03-08 11_43_56-test_1.jpg \\u200e- Photos.png',\n",
       " 'C:\\\\Users\\\\quang\\\\Anaconda3\\\\envs\\\\gputest\\\\code\\\\IPS\\\\data-digit\\\\9\\\\2020-03-08 11_44_02-test_1.jpg \\u200e- Photos.png',\n",
       " 'C:\\\\Users\\\\quang\\\\Anaconda3\\\\envs\\\\gputest\\\\code\\\\IPS\\\\data-digit\\\\9\\\\2020-03-08 11_44_11-test_1.jpg \\u200e- Photos.png',\n",
       " 'C:\\\\Users\\\\quang\\\\Anaconda3\\\\envs\\\\gputest\\\\code\\\\IPS\\\\data-digit\\\\9\\\\2020-03-08 11_50_42-test_2.jpg \\u200e- Photos.png',\n",
       " 'C:\\\\Users\\\\quang\\\\Anaconda3\\\\envs\\\\gputest\\\\code\\\\IPS\\\\data-digit\\\\9\\\\2020-03-08 11_51_04-test_2.jpg \\u200e- Photos.png',\n",
       " 'C:\\\\Users\\\\quang\\\\Anaconda3\\\\envs\\\\gputest\\\\code\\\\IPS\\\\data-digit\\\\9\\\\2020-03-08 11_51_13-test_2.jpg \\u200e- Photos.png',\n",
       " 'C:\\\\Users\\\\quang\\\\Anaconda3\\\\envs\\\\gputest\\\\code\\\\IPS\\\\data-digit\\\\9\\\\2020-03-08 11_52_07-test_2.jpg \\u200e- Photos.png',\n",
       " 'C:\\\\Users\\\\quang\\\\Anaconda3\\\\envs\\\\gputest\\\\code\\\\IPS\\\\data-digit\\\\9\\\\2020-03-08 11_52_20-test_2.jpg \\u200e- Photos.png',\n",
       " 'C:\\\\Users\\\\quang\\\\Anaconda3\\\\envs\\\\gputest\\\\code\\\\IPS\\\\data-digit\\\\9\\\\2020-03-08 11_52_41-test_2.jpg \\u200e- Photos.png',\n",
       " 'C:\\\\Users\\\\quang\\\\Anaconda3\\\\envs\\\\gputest\\\\code\\\\IPS\\\\data-digit\\\\9\\\\2020-03-08 11_53_06-test_2.jpg \\u200e- Photos.png',\n",
       " 'C:\\\\Users\\\\quang\\\\Anaconda3\\\\envs\\\\gputest\\\\code\\\\IPS\\\\data-digit\\\\9\\\\2020-03-08 11_53_10-test_2.jpg \\u200e- Photos.png',\n",
       " 'C:\\\\Users\\\\quang\\\\Anaconda3\\\\envs\\\\gputest\\\\code\\\\IPS\\\\data-digit\\\\9\\\\2020-03-08 11_53_13-test_2.jpg \\u200e- Photos.png',\n",
       " 'C:\\\\Users\\\\quang\\\\Anaconda3\\\\envs\\\\gputest\\\\code\\\\IPS\\\\data-digit\\\\9\\\\2020-03-08 11_53_20-test_2.jpg \\u200e- Photos.png',\n",
       " 'C:\\\\Users\\\\quang\\\\Anaconda3\\\\envs\\\\gputest\\\\code\\\\IPS\\\\data-digit\\\\9\\\\2020-03-08 11_53_45-test_2.jpg \\u200e- Photos.png',\n",
       " 'C:\\\\Users\\\\quang\\\\Anaconda3\\\\envs\\\\gputest\\\\code\\\\IPS\\\\data-digit\\\\9\\\\2020-03-08 11_54_07-test_2.jpg \\u200e- Photos.png',\n",
       " 'C:\\\\Users\\\\quang\\\\Anaconda3\\\\envs\\\\gputest\\\\code\\\\IPS\\\\data-digit\\\\9\\\\2020-03-08 11_54_10-test_2.jpg \\u200e- Photos.png',\n",
       " 'C:\\\\Users\\\\quang\\\\Anaconda3\\\\envs\\\\gputest\\\\code\\\\IPS\\\\data-digit\\\\9\\\\2020-03-08 11_54_31-test_2.jpg \\u200e- Photos.png',\n",
       " 'C:\\\\Users\\\\quang\\\\Anaconda3\\\\envs\\\\gputest\\\\code\\\\IPS\\\\data-digit\\\\9\\\\2020-03-08 11_54_50-test_2.jpg \\u200e- Photos.png',\n",
       " 'C:\\\\Users\\\\quang\\\\Anaconda3\\\\envs\\\\gputest\\\\code\\\\IPS\\\\data-digit\\\\9\\\\2020-03-08 11_55_28-test_2.jpg \\u200e- Photos.png',\n",
       " 'C:\\\\Users\\\\quang\\\\Anaconda3\\\\envs\\\\gputest\\\\code\\\\IPS\\\\data-digit\\\\9\\\\2020-03-08 11_55_32-test_2.jpg \\u200e- Photos.png',\n",
       " 'C:\\\\Users\\\\quang\\\\Anaconda3\\\\envs\\\\gputest\\\\code\\\\IPS\\\\data-digit\\\\9\\\\2020-03-08 11_55_38-test_2.jpg \\u200e- Photos.png',\n",
       " 'C:\\\\Users\\\\quang\\\\Anaconda3\\\\envs\\\\gputest\\\\code\\\\IPS\\\\data-digit\\\\9\\\\2020-03-08 11_56_03-test_2.jpg \\u200e- Photos.png',\n",
       " 'C:\\\\Users\\\\quang\\\\Anaconda3\\\\envs\\\\gputest\\\\code\\\\IPS\\\\data-digit\\\\9\\\\2020-03-08 11_56_10-test_2.jpg \\u200e- Photos.png',\n",
       " 'C:\\\\Users\\\\quang\\\\Anaconda3\\\\envs\\\\gputest\\\\code\\\\IPS\\\\data-digit\\\\9\\\\2020-03-08 11_56_14-test_2.jpg \\u200e- Photos.png',\n",
       " 'C:\\\\Users\\\\quang\\\\Anaconda3\\\\envs\\\\gputest\\\\code\\\\IPS\\\\data-digit\\\\9\\\\2020-03-08 11_56_18-test_2.jpg \\u200e- Photos.png',\n",
       " 'C:\\\\Users\\\\quang\\\\Anaconda3\\\\envs\\\\gputest\\\\code\\\\IPS\\\\data-digit\\\\9\\\\2020-03-08 12_04_20-Photos.png',\n",
       " 'C:\\\\Users\\\\quang\\\\Anaconda3\\\\envs\\\\gputest\\\\code\\\\IPS\\\\data-digit\\\\9\\\\2020-03-08 12_05_12-Photos.png',\n",
       " 'C:\\\\Users\\\\quang\\\\Anaconda3\\\\envs\\\\gputest\\\\code\\\\IPS\\\\data-digit\\\\9\\\\2020-03-08 12_05_24-Photos.png',\n",
       " 'C:\\\\Users\\\\quang\\\\Anaconda3\\\\envs\\\\gputest\\\\code\\\\IPS\\\\data-digit\\\\9\\\\2020-03-08 12_05_59-Photos.png',\n",
       " 'C:\\\\Users\\\\quang\\\\Anaconda3\\\\envs\\\\gputest\\\\code\\\\IPS\\\\data-digit\\\\9\\\\2020-03-08 12_06_55-Photos.png',\n",
       " 'C:\\\\Users\\\\quang\\\\Anaconda3\\\\envs\\\\gputest\\\\code\\\\IPS\\\\data-digit\\\\9\\\\2020-03-08 12_06_58-Photos.png',\n",
       " 'C:\\\\Users\\\\quang\\\\Anaconda3\\\\envs\\\\gputest\\\\code\\\\IPS\\\\data-digit\\\\9\\\\2020-03-08 12_07_19-Photos.png',\n",
       " 'C:\\\\Users\\\\quang\\\\Anaconda3\\\\envs\\\\gputest\\\\code\\\\IPS\\\\data-digit\\\\9\\\\2020-03-08 12_08_27-Photos.png',\n",
       " 'C:\\\\Users\\\\quang\\\\Anaconda3\\\\envs\\\\gputest\\\\code\\\\IPS\\\\data-digit\\\\9\\\\2020-03-08 12_08_36-Photos.png',\n",
       " 'C:\\\\Users\\\\quang\\\\Anaconda3\\\\envs\\\\gputest\\\\code\\\\IPS\\\\data-digit\\\\9\\\\2020-03-08 12_08_45-Photos.png',\n",
       " 'C:\\\\Users\\\\quang\\\\Anaconda3\\\\envs\\\\gputest\\\\code\\\\IPS\\\\data-digit\\\\9\\\\2020-03-08 12_09_26-Photos.png',\n",
       " 'C:\\\\Users\\\\quang\\\\Anaconda3\\\\envs\\\\gputest\\\\code\\\\IPS\\\\data-digit\\\\9\\\\2020-03-08 12_10_09-Photos.png',\n",
       " 'C:\\\\Users\\\\quang\\\\Anaconda3\\\\envs\\\\gputest\\\\code\\\\IPS\\\\data-digit\\\\9\\\\2020-03-08 12_10_32-Photos.png',\n",
       " 'C:\\\\Users\\\\quang\\\\Anaconda3\\\\envs\\\\gputest\\\\code\\\\IPS\\\\data-digit\\\\9\\\\2020-03-08 12_10_50-Photos.png',\n",
       " 'C:\\\\Users\\\\quang\\\\Anaconda3\\\\envs\\\\gputest\\\\code\\\\IPS\\\\data-digit\\\\9\\\\2020-03-08 12_12_30-Photos.png',\n",
       " 'C:\\\\Users\\\\quang\\\\Anaconda3\\\\envs\\\\gputest\\\\code\\\\IPS\\\\data-digit\\\\9\\\\2020-03-08 12_12_53-Photos.png',\n",
       " 'C:\\\\Users\\\\quang\\\\Anaconda3\\\\envs\\\\gputest\\\\code\\\\IPS\\\\data-digit\\\\9\\\\2020-03-08 12_13_11-Photos.png',\n",
       " 'C:\\\\Users\\\\quang\\\\Anaconda3\\\\envs\\\\gputest\\\\code\\\\IPS\\\\data-digit\\\\9\\\\2020-03-08 12_13_14-Photos.png',\n",
       " 'C:\\\\Users\\\\quang\\\\Anaconda3\\\\envs\\\\gputest\\\\code\\\\IPS\\\\data-digit\\\\9\\\\2020-03-08 12_13_17-Photos.png',\n",
       " 'C:\\\\Users\\\\quang\\\\Anaconda3\\\\envs\\\\gputest\\\\code\\\\IPS\\\\data-digit\\\\9\\\\2020-03-08 12_13_24-Photos.png',\n",
       " 'C:\\\\Users\\\\quang\\\\Anaconda3\\\\envs\\\\gputest\\\\code\\\\IPS\\\\data-digit\\\\9\\\\2020-03-08 12_14_00-Photos.png',\n",
       " 'C:\\\\Users\\\\quang\\\\Anaconda3\\\\envs\\\\gputest\\\\code\\\\IPS\\\\data-digit\\\\9\\\\2020-03-08 12_14_03-Photos.png',\n",
       " 'C:\\\\Users\\\\quang\\\\Anaconda3\\\\envs\\\\gputest\\\\code\\\\IPS\\\\data-digit\\\\9\\\\2020-03-08 12_14_24-Photos.png',\n",
       " 'C:\\\\Users\\\\quang\\\\Anaconda3\\\\envs\\\\gputest\\\\code\\\\IPS\\\\data-digit\\\\9\\\\2020-03-08 12_14_34-Photos.png',\n",
       " 'C:\\\\Users\\\\quang\\\\Anaconda3\\\\envs\\\\gputest\\\\code\\\\IPS\\\\data-digit\\\\9\\\\2020-03-08 12_14_48-Photos.png',\n",
       " 'C:\\\\Users\\\\quang\\\\Anaconda3\\\\envs\\\\gputest\\\\code\\\\IPS\\\\data-digit\\\\9\\\\2020-03-08 12_14_59-Photos.png',\n",
       " 'C:\\\\Users\\\\quang\\\\Anaconda3\\\\envs\\\\gputest\\\\code\\\\IPS\\\\data-digit\\\\9\\\\2020-03-08 12_15_23-Photos.png',\n",
       " 'C:\\\\Users\\\\quang\\\\Anaconda3\\\\envs\\\\gputest\\\\code\\\\IPS\\\\data-digit\\\\9\\\\2020-03-08 12_15_35-Photos.png',\n",
       " 'C:\\\\Users\\\\quang\\\\Anaconda3\\\\envs\\\\gputest\\\\code\\\\IPS\\\\data-digit\\\\9\\\\2020-03-08 12_15_44-Photos.png',\n",
       " 'C:\\\\Users\\\\quang\\\\Anaconda3\\\\envs\\\\gputest\\\\code\\\\IPS\\\\data-digit\\\\9\\\\2020-03-08 12_15_55-Photos.png',\n",
       " 'C:\\\\Users\\\\quang\\\\Anaconda3\\\\envs\\\\gputest\\\\code\\\\IPS\\\\data-digit\\\\9\\\\2020-03-08 12_16_05-Photos.png',\n",
       " 'C:\\\\Users\\\\quang\\\\Anaconda3\\\\envs\\\\gputest\\\\code\\\\IPS\\\\data-digit\\\\9\\\\2020-03-08 12_16_11-Photos.png',\n",
       " 'C:\\\\Users\\\\quang\\\\Anaconda3\\\\envs\\\\gputest\\\\code\\\\IPS\\\\data-digit\\\\9\\\\2020-03-08 12_16_21-Photos.png',\n",
       " 'C:\\\\Users\\\\quang\\\\Anaconda3\\\\envs\\\\gputest\\\\code\\\\IPS\\\\data-digit\\\\9\\\\2020-03-08 12_16_24-Photos.png',\n",
       " 'C:\\\\Users\\\\quang\\\\Anaconda3\\\\envs\\\\gputest\\\\code\\\\IPS\\\\data-digit\\\\9\\\\2020-03-08 12_16_27-Photos.png',\n",
       " 'C:\\\\Users\\\\quang\\\\Anaconda3\\\\envs\\\\gputest\\\\code\\\\IPS\\\\data-digit\\\\9\\\\2020-03-08 12_16_56-Photos.png',\n",
       " 'C:\\\\Users\\\\quang\\\\Anaconda3\\\\envs\\\\gputest\\\\code\\\\IPS\\\\data-digit\\\\9\\\\2020-03-08 12_17_07-Photos.png',\n",
       " 'C:\\\\Users\\\\quang\\\\Anaconda3\\\\envs\\\\gputest\\\\code\\\\IPS\\\\data-digit\\\\9\\\\2020-03-08 12_17_11-Photos.png',\n",
       " 'C:\\\\Users\\\\quang\\\\Anaconda3\\\\envs\\\\gputest\\\\code\\\\IPS\\\\data-digit\\\\9\\\\2020-03-08 12_17_15-Photos.png',\n",
       " 'C:\\\\Users\\\\quang\\\\Anaconda3\\\\envs\\\\gputest\\\\code\\\\IPS\\\\data-digit\\\\9\\\\2020-03-08 12_17_25-Photos.png',\n",
       " 'C:\\\\Users\\\\quang\\\\Anaconda3\\\\envs\\\\gputest\\\\code\\\\IPS\\\\data-digit\\\\9\\\\2020-03-08 12_17_45-Photos.png',\n",
       " 'C:\\\\Users\\\\quang\\\\Anaconda3\\\\envs\\\\gputest\\\\code\\\\IPS\\\\data-digit\\\\9\\\\2020-03-08 12_17_59-Photos.png',\n",
       " 'C:\\\\Users\\\\quang\\\\Anaconda3\\\\envs\\\\gputest\\\\code\\\\IPS\\\\data-digit\\\\9\\\\2020-03-08 12_18_38-Photos.png',\n",
       " 'C:\\\\Users\\\\quang\\\\Anaconda3\\\\envs\\\\gputest\\\\code\\\\IPS\\\\data-digit\\\\9\\\\2020-03-08 12_18_59-Photos.png',\n",
       " 'C:\\\\Users\\\\quang\\\\Anaconda3\\\\envs\\\\gputest\\\\code\\\\IPS\\\\data-digit\\\\9\\\\2020-03-08 12_19_02-Photos.png',\n",
       " 'C:\\\\Users\\\\quang\\\\Anaconda3\\\\envs\\\\gputest\\\\code\\\\IPS\\\\data-digit\\\\9\\\\2020-03-08 12_19_06-Photos.png',\n",
       " 'C:\\\\Users\\\\quang\\\\Anaconda3\\\\envs\\\\gputest\\\\code\\\\IPS\\\\data-digit\\\\9\\\\2020-03-08 12_19_09-Photos.png',\n",
       " 'C:\\\\Users\\\\quang\\\\Anaconda3\\\\envs\\\\gputest\\\\code\\\\IPS\\\\data-digit\\\\9\\\\2020-03-08 12_19_35-Photos.png',\n",
       " 'C:\\\\Users\\\\quang\\\\Anaconda3\\\\envs\\\\gputest\\\\code\\\\IPS\\\\data-digit\\\\9\\\\2020-03-08 12_19_48-Photos.png',\n",
       " 'C:\\\\Users\\\\quang\\\\Anaconda3\\\\envs\\\\gputest\\\\code\\\\IPS\\\\data-digit\\\\9\\\\2020-03-08 12_19_56-Photos.png',\n",
       " 'C:\\\\Users\\\\quang\\\\Anaconda3\\\\envs\\\\gputest\\\\code\\\\IPS\\\\data-digit\\\\9\\\\2020-03-08 12_20_28-test_5.jpg \\u200e- Photos.png',\n",
       " 'C:\\\\Users\\\\quang\\\\Anaconda3\\\\envs\\\\gputest\\\\code\\\\IPS\\\\data-digit\\\\9\\\\2020-03-08 12_20_37-test_5.jpg \\u200e- Photos.png',\n",
       " 'C:\\\\Users\\\\quang\\\\Anaconda3\\\\envs\\\\gputest\\\\code\\\\IPS\\\\data-digit\\\\9\\\\2020-03-08 12_20_49-test_5.jpg \\u200e- Photos.png',\n",
       " 'C:\\\\Users\\\\quang\\\\Anaconda3\\\\envs\\\\gputest\\\\code\\\\IPS\\\\data-digit\\\\9\\\\2020-03-08 12_20_52-test_5.jpg \\u200e- Photos.png',\n",
       " 'C:\\\\Users\\\\quang\\\\Anaconda3\\\\envs\\\\gputest\\\\code\\\\IPS\\\\data-digit\\\\9\\\\2020-03-08 12_20_55-test_5.jpg \\u200e- Photos.png',\n",
       " 'C:\\\\Users\\\\quang\\\\Anaconda3\\\\envs\\\\gputest\\\\code\\\\IPS\\\\data-digit\\\\9\\\\2020-03-08 12_21_21-test_5.jpg \\u200e- Photos.png',\n",
       " 'C:\\\\Users\\\\quang\\\\Anaconda3\\\\envs\\\\gputest\\\\code\\\\IPS\\\\data-digit\\\\9\\\\2020-03-08 12_21_32-test_5.jpg \\u200e- Photos.png',\n",
       " 'C:\\\\Users\\\\quang\\\\Anaconda3\\\\envs\\\\gputest\\\\code\\\\IPS\\\\data-digit\\\\9\\\\2020-03-08 12_21_42-test_5.jpg \\u200e- Photos.png',\n",
       " 'C:\\\\Users\\\\quang\\\\Anaconda3\\\\envs\\\\gputest\\\\code\\\\IPS\\\\data-digit\\\\9\\\\2020-03-08 12_21_44-test_5.jpg \\u200e- Photos.png',\n",
       " 'C:\\\\Users\\\\quang\\\\Anaconda3\\\\envs\\\\gputest\\\\code\\\\IPS\\\\data-digit\\\\9\\\\2020-03-08 12_21_55-test_5.jpg \\u200e- Photos.png',\n",
       " 'C:\\\\Users\\\\quang\\\\Anaconda3\\\\envs\\\\gputest\\\\code\\\\IPS\\\\data-digit\\\\9\\\\2020-03-08 12_22_10-test_5.jpg \\u200e- Photos.png']"
      ]
     },
     "execution_count": 3,
     "metadata": {},
     "output_type": "execute_result"
    }
   ],
   "source": [
    "images"
   ]
  },
  {
   "cell_type": "code",
   "execution_count": 1,
   "metadata": {},
   "outputs": [],
   "source": [
    "import cv2\n",
    "img=cv2.imread('test1.png')"
   ]
  },
  {
   "cell_type": "code",
   "execution_count": 2,
   "metadata": {},
   "outputs": [
    {
     "data": {
      "text/plain": [
       "(28, 28)"
      ]
     },
     "execution_count": 2,
     "metadata": {},
     "output_type": "execute_result"
    }
   ],
   "source": [
    "import numpy as np \n",
    "import matplotlib.pyplot as plt \n",
    "import cv2\n",
    "img=cv2.resize(img,(28,28))\n",
    "roi_gray = cv2.cvtColor(img,cv2.COLOR_BGR2GRAY)\n",
    "    # Lọc nhiễu bằng GaussianBlur\n",
    "roi_blur = cv2.GaussianBlur(roi_gray,(3,3),1)\n",
    "ret, thre = cv2.threshold(roi_blur,0,255,cv2.THRESH_BINARY_INV | cv2.THRESH_OTSU)\n",
    "thre.shape"
   ]
  },
  {
   "cell_type": "code",
   "execution_count": 3,
   "metadata": {},
   "outputs": [],
   "source": [
    "roi_gray = cv2.cvtColor(img,cv2.COLOR_BGR2GRAY)\n",
    "    # Lọc nhiễu bằng GaussianBlur\n",
    "roi_blur = cv2.GaussianBlur(roi_gray,(3,3),1)\n",
    "ret, thre = cv2.threshold(roi_blur,0,255,cv2.THRESH_BINARY_INV | cv2.THRESH_OTSU)"
   ]
  },
  {
   "cell_type": "code",
   "execution_count": 26,
   "metadata": {},
   "outputs": [],
   "source": [
    "kerel3 = cv2.getStructuringElement(cv2.MORPH_RECT,(1,1))\n",
    "thre = cv2.morphologyEx(thre,cv2.MORPH_ERODE,kerel3)"
   ]
  },
  {
   "cell_type": "code",
   "execution_count": 6,
   "metadata": {},
   "outputs": [
    {
     "data": {
      "text/plain": [
       "<matplotlib.image.AxesImage at 0x1f98b491548>"
      ]
     },
     "execution_count": 6,
     "metadata": {},
     "output_type": "execute_result"
    },
    {
     "data": {
      "image/png": "[encoded data removed]",
      "text/plain": [
       "<Figure size 432x288 with 1 Axes>"
      ]
     },
     "metadata": {
      "needs_background": "light"
     },
     "output_type": "display_data"
    }
   ],
   "source": [
    "plt.imshow(thre.reshape(28,28), cmap='gray')\n"
   ]
  },
  {
   "cell_type": "code",
   "execution_count": 28,
   "metadata": {},
   "outputs": [],
   "source": [
    "\n"
   ]
  },
  {
   "cell_type": "code",
   "execution_count": 29,
   "metadata": {},
   "outputs": [
    {
     "data": {
      "text/plain": [
       "array([[[0, 0, 0],\n",
       "        [0, 0, 0],\n",
       "        [0, 0, 0],\n",
       "        ...,\n",
       "        [0, 0, 0],\n",
       "        [0, 0, 0],\n",
       "        [0, 0, 0]],\n",
       "\n",
       "       [[0, 0, 0],\n",
       "        [0, 0, 0],\n",
       "        [0, 0, 0],\n",
       "        ...,\n",
       "        [0, 0, 0],\n",
       "        [0, 0, 0],\n",
       "        [0, 0, 0]],\n",
       "\n",
       "       [[0, 0, 0],\n",
       "        [0, 0, 0],\n",
       "        [0, 0, 0],\n",
       "        ...,\n",
       "        [0, 0, 0],\n",
       "        [0, 0, 0],\n",
       "        [0, 0, 0]],\n",
       "\n",
       "       ...,\n",
       "\n",
       "       [[0, 0, 0],\n",
       "        [0, 0, 0],\n",
       "        [0, 0, 0],\n",
       "        ...,\n",
       "        [0, 0, 0],\n",
       "        [0, 0, 0],\n",
       "        [0, 0, 0]],\n",
       "\n",
       "       [[0, 0, 0],\n",
       "        [0, 0, 0],\n",
       "        [0, 0, 0],\n",
       "        ...,\n",
       "        [0, 0, 0],\n",
       "        [0, 0, 0],\n",
       "        [0, 0, 0]],\n",
       "\n",
       "       [[0, 0, 0],\n",
       "        [0, 0, 0],\n",
       "        [0, 0, 0],\n",
       "        ...,\n",
       "        [0, 0, 0],\n",
       "        [0, 0, 0],\n",
       "        [0, 0, 0]]], dtype=uint8)"
      ]
     },
     "execution_count": 29,
     "metadata": {},
     "output_type": "execute_result"
    }
   ],
   "source": [
    "\n"
   ]
  },
  {
   "cell_type": "code",
   "execution_count": 30,
   "metadata": {},
   "outputs": [
    {
     "data": {
      "text/plain": [
       "<matplotlib.image.AxesImage at 0x20aa6b6f6c8>"
      ]
     },
     "execution_count": 30,
     "metadata": {},
     "output_type": "execute_result"
    },
    {
     "data": {
      "image/png": "[encoded data removed]",
      "text/plain": [
       "<Figure size 432x288 with 1 Axes>"
      ]
     },
     "metadata": {
      "needs_background": "light"
     },
     "output_type": "display_data"
    }
   ],
   "source": []
  },
  {
   "cell_type": "code",
   "execution_count": 15,
   "metadata": {},
   "outputs": [
    {
     "name": "stdout",
     "output_type": "stream",
     "text": [
      "Giá trị dự đoán:  2\n"
     ]
    }
   ],
   "source": [
    "\n"
   ]
  },
  {
   "cell_type": "code",
   "execution_count": 6,
   "metadata": {},
   "outputs": [
    {
     "name": "stdout",
     "output_type": "stream",
     "text": [
      "Saved model to disk\n"
     ]
    }
   ],
   "source": [
    "from keras.models import model_from_json\n",
    "# serialize model to JSON\n",
    "model_json = model.to_json()\n",
    "with open(\"model.json\", \"w\") as json_file:\n",
    "    json_file.write(model_json)\n",
    "# serialize weights to HDF5\n",
    "model.save_weights(\"model.h5\")\n",
    "print(\"Saved model to disk\")"
   ]
  },
  {
   "cell_type": "code",
   "execution_count": 80,
   "metadata": {},
   "outputs": [
    {
     "ename": "error",
     "evalue": "OpenCV(4.2.0) ..\\modules\\imgproc\\src\\color.cpp:182: error: (-215:Assertion failed) !_src.empty() in function 'cv::cvtColor'\n",
     "output_type": "error",
     "traceback": [
      "\u001b[1;31m---------------------------------------------------------------------------\u001b[0m",
      "\u001b[1;31merror\u001b[0m                                     Traceback (most recent call last)",
      "\u001b[1;32m<ipython-input-80-0f0eaa80ed75>\u001b[0m in \u001b[0;36m<module>\u001b[1;34m\u001b[0m\n\u001b[0;32m      5\u001b[0m \u001b[0mmodel\u001b[0m\u001b[1;33m=\u001b[0m\u001b[0mload_model\u001b[0m\u001b[1;33m(\u001b[0m\u001b[1;34m'modell.h5'\u001b[0m\u001b[1;33m)\u001b[0m\u001b[1;33m\u001b[0m\u001b[1;33m\u001b[0m\u001b[0m\n\u001b[0;32m      6\u001b[0m \u001b[0mimg\u001b[0m\u001b[1;33m=\u001b[0m\u001b[0mcv2\u001b[0m\u001b[1;33m.\u001b[0m\u001b[0mimread\u001b[0m\u001b[1;33m(\u001b[0m\u001b[1;34m'9.jpg'\u001b[0m\u001b[1;33m)\u001b[0m\u001b[1;33m\u001b[0m\u001b[1;33m\u001b[0m\u001b[0m\n\u001b[1;32m----> 7\u001b[1;33m \u001b[0mroi_gray\u001b[0m \u001b[1;33m=\u001b[0m \u001b[0mcv2\u001b[0m\u001b[1;33m.\u001b[0m\u001b[0mcvtColor\u001b[0m\u001b[1;33m(\u001b[0m\u001b[0mimg\u001b[0m\u001b[1;33m,\u001b[0m\u001b[0mcv2\u001b[0m\u001b[1;33m.\u001b[0m\u001b[0mCOLOR_BGR2GRAY\u001b[0m\u001b[1;33m)\u001b[0m\u001b[1;33m\u001b[0m\u001b[1;33m\u001b[0m\u001b[0m\n\u001b[0m\u001b[0;32m      8\u001b[0m \u001b[0mroi_blur\u001b[0m \u001b[1;33m=\u001b[0m \u001b[0mcv2\u001b[0m\u001b[1;33m.\u001b[0m\u001b[0mGaussianBlur\u001b[0m\u001b[1;33m(\u001b[0m\u001b[0mroi_gray\u001b[0m\u001b[1;33m,\u001b[0m\u001b[1;33m(\u001b[0m\u001b[1;36m3\u001b[0m\u001b[1;33m,\u001b[0m\u001b[1;36m3\u001b[0m\u001b[1;33m)\u001b[0m\u001b[1;33m,\u001b[0m\u001b[1;36m1\u001b[0m\u001b[1;33m)\u001b[0m\u001b[1;33m\u001b[0m\u001b[1;33m\u001b[0m\u001b[0m\n\u001b[0;32m      9\u001b[0m \u001b[1;33m\u001b[0m\u001b[0m\n",
      "\u001b[1;31merror\u001b[0m: OpenCV(4.2.0) ..\\modules\\imgproc\\src\\color.cpp:182: error: (-215:Assertion failed) !_src.empty() in function 'cv::cvtColor'\n"
     ]
    }
   ],
   "source": [
    "import numpy as np \n",
    "import matplotlib.pyplot as plt \n",
    "import cv2\n",
    "from keras.models import load_model\n",
    "model=load_model('modell.h5')\n",
    "img=cv2.imread('9.jpg')\n",
    "roi_gray = cv2.cvtColor(img,cv2.COLOR_BGR2GRAY)\n",
    "roi_blur = cv2.GaussianBlur(roi_gray,(3,3),1)\n",
    "\n",
    "ret, thre = cv2.threshold(roi_gray,0,255,cv2.THRESH_BINARY_INV | cv2.THRESH_OTSU)\n",
    "kerel3 = cv2.getStructuringElement(cv2.MORPH_RECT,(1,1))\n",
    "thre = cv2.morphologyEx(roi_blur,cv2.MORPH_ERODE,kerel3)\n",
    "thre=cv2.resize(thre,(28,28))\n",
    "y_predict = model.predict(thre.reshape(1,28,28,1)) \n",
    "print('Giá trị dự đoán: ', np.argmax(y_predict))"
   ]
  },
  {
   "cell_type": "code",
   "execution_count": null,
   "metadata": {},
   "outputs": [],
   "source": []
  }
 ],
 "metadata": {
  "kernelspec": {
   "display_name": "Python 3",
   "language": "python",
   "name": "python3"
  },
  "language_info": {
   "codemirror_mode": {
    "name": "ipython",
    "version": 3
   },
   "file_extension": ".py",
   "mimetype": "text/x-python",
   "name": "python",
   "nbconvert_exporter": "python",
   "pygments_lexer": "ipython3",
   "version": "3.7.6"
  }
 },
 "nbformat": 4,
 "nbformat_minor": 4
}
